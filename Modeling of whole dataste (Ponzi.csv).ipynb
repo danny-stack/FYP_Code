{
 "cells": [
  {
   "cell_type": "code",
   "execution_count": 1,
   "metadata": {},
   "outputs": [],
   "source": [
    "import numpy as np\n",
    "import pandas as pd\n",
    "import matplotlib.pyplot as plt\n",
    "import seaborn as sns\n",
    "import numpy as np\n",
    "from sklearn.pipeline import Pipeline, make_pipeline\n",
    "%matplotlib inline\n",
    "\n",
    "#method used for preprocessing\n",
    "from sklearn.preprocessing import StandardScaler, MinMaxScaler\n",
    "\n",
    "#models used for training/fitting data\n",
    "from sklearn.linear_model import LogisticRegression\n",
    "from sklearn.svm import SVC\n",
    "from sklearn.ensemble import RandomForestClassifier\n",
    "from sklearn.tree import DecisionTreeClassifier\n",
    "from sklearn.naive_bayes import GaussianNB, BernoulliNB, MultinomialNB\n",
    "\n",
    "#methods for training and optimizing model\n",
    "from sklearn.model_selection import train_test_split\n",
    "from sklearn.model_selection import StratifiedShuffleSplit\n",
    "from sklearn.model_selection import KFold\n",
    "from sklearn.model_selection import GridSearchCV\n",
    "from sklearn.model_selection import RandomizedSearchCV\n",
    "from sklearn.model_selection import cross_val_score\n",
    "from sklearn.model_selection import cross_validate\n",
    "from sklearn.metrics import recall_score,accuracy_score,confusion_matrix, f1_score, precision_score, auc,roc_auc_score,roc_curve, precision_recall_curve\n",
    "from sklearn.metrics import average_precision_score,confusion_matrix,precision_recall_curve,auc,roc_curve,recall_score,classification_report \n",
    "\n",
    "#methods for resampling\n",
    "from imblearn.over_sampling import SMOTE, RandomOverSampler\n",
    "from imblearn.under_sampling import ClusterCentroids,NearMiss, RandomUnderSampler\n",
    "from imblearn.combine import SMOTEENN,SMOTETomek\n",
    "#from imblearn.ensemble import BalanceCascade\n",
    "\n",
    "#ensemble methods\n",
    "from sklearn.discriminant_analysis import LinearDiscriminantAnalysis,QuadraticDiscriminantAnalysis\n",
    "from sklearn.ensemble import RandomForestClassifier\n",
    "from sklearn.ensemble import AdaBoostClassifier\n",
    "from sklearn.ensemble import GradientBoostingClassifier\n",
    "\n",
    "\n",
    "\n",
    "#important feature\n",
    "from sklearn.inspection import permutation_importance\n",
    "import shap\n",
    "#image shape setting\n",
    "plt.rcParams.update({'figure.figsize': (12.0, 8.0)})\n",
    "plt.rcParams.update({'font.size': 14})\n",
    "\n",
    "import warnings\n",
    "warnings.filterwarnings('ignore')"
   ]
  },
  {
   "cell_type": "code",
   "execution_count": 2,
   "metadata": {
    "scrolled": true
   },
   "outputs": [
    {
     "data": {
      "text/html": [
       "<div>\n",
       "<style scoped>\n",
       "    .dataframe tbody tr th:only-of-type {\n",
       "        vertical-align: middle;\n",
       "    }\n",
       "\n",
       "    .dataframe tbody tr th {\n",
       "        vertical-align: top;\n",
       "    }\n",
       "\n",
       "    .dataframe thead th {\n",
       "        text-align: right;\n",
       "    }\n",
       "</style>\n",
       "<table border=\"1\" class=\"dataframe\">\n",
       "  <thead>\n",
       "    <tr style=\"text-align: right;\">\n",
       "      <th></th>\n",
       "      <th>address</th>\n",
       "      <th>lifetime</th>\n",
       "      <th>most active</th>\n",
       "      <th>active day</th>\n",
       "      <th>in vs out</th>\n",
       "      <th>num out</th>\n",
       "      <th>num in</th>\n",
       "      <th>num addr received</th>\n",
       "      <th>num addr sent</th>\n",
       "      <th>median delay</th>\n",
       "      <th>mean delay</th>\n",
       "      <th>minimum delay</th>\n",
       "      <th>maximum delay</th>\n",
       "      <th>total received BTC</th>\n",
       "      <th>total sent BTC</th>\n",
       "      <th>avg received BTC</th>\n",
       "      <th>avg sent BTC</th>\n",
       "      <th>48 diff</th>\n",
       "      <th>class</th>\n",
       "    </tr>\n",
       "  </thead>\n",
       "  <tbody>\n",
       "    <tr>\n",
       "      <th>0</th>\n",
       "      <td>114Ap9G5nu78vESC648amPwSeqUorPtV5L</td>\n",
       "      <td>28329132</td>\n",
       "      <td>202</td>\n",
       "      <td>1035</td>\n",
       "      <td>1.004892</td>\n",
       "      <td>1022</td>\n",
       "      <td>1027</td>\n",
       "      <td>3430</td>\n",
       "      <td>3127</td>\n",
       "      <td>4369</td>\n",
       "      <td>2.739761e+04</td>\n",
       "      <td>-64</td>\n",
       "      <td>2881479</td>\n",
       "      <td>9.737518</td>\n",
       "      <td>9.746409</td>\n",
       "      <td>0.009528</td>\n",
       "      <td>0.009490</td>\n",
       "      <td>-200</td>\n",
       "      <td>1</td>\n",
       "    </tr>\n",
       "    <tr>\n",
       "      <th>1</th>\n",
       "      <td>1168Hc7aRi1azJPFRbCMGFvS1Q7R4taiZ3</td>\n",
       "      <td>1952932</td>\n",
       "      <td>67</td>\n",
       "      <td>14</td>\n",
       "      <td>0.126126</td>\n",
       "      <td>7</td>\n",
       "      <td>7</td>\n",
       "      <td>14</td>\n",
       "      <td>111</td>\n",
       "      <td>4559</td>\n",
       "      <td>1.502255e+05</td>\n",
       "      <td>473</td>\n",
       "      <td>1031864</td>\n",
       "      <td>0.084129</td>\n",
       "      <td>0.084129</td>\n",
       "      <td>0.012018</td>\n",
       "      <td>0.012018</td>\n",
       "      <td>-65</td>\n",
       "      <td>1</td>\n",
       "    </tr>\n",
       "    <tr>\n",
       "      <th>2</th>\n",
       "      <td>121iUY1czgXaQcEFrKKjbzMUdCquTQgPHL</td>\n",
       "      <td>17622640</td>\n",
       "      <td>71</td>\n",
       "      <td>165</td>\n",
       "      <td>1.000000</td>\n",
       "      <td>86</td>\n",
       "      <td>86</td>\n",
       "      <td>1625</td>\n",
       "      <td>360</td>\n",
       "      <td>25496</td>\n",
       "      <td>1.074551e+05</td>\n",
       "      <td>0</td>\n",
       "      <td>989807</td>\n",
       "      <td>76.400340</td>\n",
       "      <td>76.400340</td>\n",
       "      <td>0.888376</td>\n",
       "      <td>0.888376</td>\n",
       "      <td>-69</td>\n",
       "      <td>1</td>\n",
       "    </tr>\n",
       "    <tr>\n",
       "      <th>3</th>\n",
       "      <td>121jfy7iR2Q6HCNL3oZFDK2WTjigFZRAVb</td>\n",
       "      <td>103352586</td>\n",
       "      <td>26</td>\n",
       "      <td>348</td>\n",
       "      <td>1.000000</td>\n",
       "      <td>208</td>\n",
       "      <td>208</td>\n",
       "      <td>752</td>\n",
       "      <td>672</td>\n",
       "      <td>362</td>\n",
       "      <td>2.978461e+05</td>\n",
       "      <td>-427</td>\n",
       "      <td>102562674</td>\n",
       "      <td>44.303918</td>\n",
       "      <td>44.303918</td>\n",
       "      <td>0.213000</td>\n",
       "      <td>0.213000</td>\n",
       "      <td>22</td>\n",
       "      <td>1</td>\n",
       "    </tr>\n",
       "    <tr>\n",
       "      <th>4</th>\n",
       "      <td>121x1rbwtPk4jg48V42zv1CprdY5Lm1ozb</td>\n",
       "      <td>3172652</td>\n",
       "      <td>14</td>\n",
       "      <td>82</td>\n",
       "      <td>1.000000</td>\n",
       "      <td>53</td>\n",
       "      <td>53</td>\n",
       "      <td>201</td>\n",
       "      <td>148</td>\n",
       "      <td>0</td>\n",
       "      <td>3.916854e+04</td>\n",
       "      <td>-839</td>\n",
       "      <td>2754080</td>\n",
       "      <td>12.938357</td>\n",
       "      <td>12.938357</td>\n",
       "      <td>0.244120</td>\n",
       "      <td>0.244120</td>\n",
       "      <td>12</td>\n",
       "      <td>1</td>\n",
       "    </tr>\n",
       "    <tr>\n",
       "      <th>5</th>\n",
       "      <td>125LaznhCAssaRgtjbY3Fvi9jeLFKBaRdZ</td>\n",
       "      <td>42264038</td>\n",
       "      <td>185</td>\n",
       "      <td>79</td>\n",
       "      <td>1.000000</td>\n",
       "      <td>56</td>\n",
       "      <td>56</td>\n",
       "      <td>349</td>\n",
       "      <td>147</td>\n",
       "      <td>483</td>\n",
       "      <td>5.418466e+05</td>\n",
       "      <td>0</td>\n",
       "      <td>19998026</td>\n",
       "      <td>1.543845</td>\n",
       "      <td>1.543845</td>\n",
       "      <td>0.027569</td>\n",
       "      <td>0.027569</td>\n",
       "      <td>183</td>\n",
       "      <td>1</td>\n",
       "    </tr>\n",
       "    <tr>\n",
       "      <th>6</th>\n",
       "      <td>12CnPUD27HKqRq9vgfb8TJb1zeZeU2RiFs</td>\n",
       "      <td>38963350</td>\n",
       "      <td>251</td>\n",
       "      <td>27</td>\n",
       "      <td>1.000000</td>\n",
       "      <td>26</td>\n",
       "      <td>26</td>\n",
       "      <td>216</td>\n",
       "      <td>142</td>\n",
       "      <td>181310</td>\n",
       "      <td>1.498590e+06</td>\n",
       "      <td>0</td>\n",
       "      <td>21927555</td>\n",
       "      <td>6.476468</td>\n",
       "      <td>6.476468</td>\n",
       "      <td>0.249095</td>\n",
       "      <td>0.249095</td>\n",
       "      <td>99</td>\n",
       "      <td>1</td>\n",
       "    </tr>\n",
       "    <tr>\n",
       "      <th>7</th>\n",
       "      <td>12cny1s79PGLN9Dfyzk4mskaVRzDYgZEv3</td>\n",
       "      <td>535387</td>\n",
       "      <td>49</td>\n",
       "      <td>522</td>\n",
       "      <td>1.000000</td>\n",
       "      <td>517</td>\n",
       "      <td>517</td>\n",
       "      <td>1380</td>\n",
       "      <td>1273</td>\n",
       "      <td>0</td>\n",
       "      <td>1.027614e+03</td>\n",
       "      <td>-12</td>\n",
       "      <td>236120</td>\n",
       "      <td>17.138668</td>\n",
       "      <td>17.138668</td>\n",
       "      <td>0.033150</td>\n",
       "      <td>0.033150</td>\n",
       "      <td>45</td>\n",
       "      <td>1</td>\n",
       "    </tr>\n",
       "    <tr>\n",
       "      <th>8</th>\n",
       "      <td>12gPNyfAqzamDkhuZnbTY9dwCA8cuTwNZv</td>\n",
       "      <td>178506156</td>\n",
       "      <td>316</td>\n",
       "      <td>1163</td>\n",
       "      <td>1.000000</td>\n",
       "      <td>1158</td>\n",
       "      <td>1158</td>\n",
       "      <td>4312</td>\n",
       "      <td>10270</td>\n",
       "      <td>24363</td>\n",
       "      <td>1.536198e+05</td>\n",
       "      <td>0</td>\n",
       "      <td>69103402</td>\n",
       "      <td>45.446220</td>\n",
       "      <td>45.446220</td>\n",
       "      <td>0.039245</td>\n",
       "      <td>0.039245</td>\n",
       "      <td>-294</td>\n",
       "      <td>1</td>\n",
       "    </tr>\n",
       "    <tr>\n",
       "      <th>9</th>\n",
       "      <td>12PoNZiEtabwkCU4YFffshWNF1cRiAk5nq</td>\n",
       "      <td>38812331</td>\n",
       "      <td>201</td>\n",
       "      <td>4415</td>\n",
       "      <td>1.000680</td>\n",
       "      <td>4412</td>\n",
       "      <td>4415</td>\n",
       "      <td>5468</td>\n",
       "      <td>9244</td>\n",
       "      <td>0</td>\n",
       "      <td>8.793007e+03</td>\n",
       "      <td>-389</td>\n",
       "      <td>29340591</td>\n",
       "      <td>9020.589926</td>\n",
       "      <td>9020.658530</td>\n",
       "      <td>2.044558</td>\n",
       "      <td>2.043184</td>\n",
       "      <td>-199</td>\n",
       "      <td>1</td>\n",
       "    </tr>\n",
       "  </tbody>\n",
       "</table>\n",
       "</div>"
      ],
      "text/plain": [
       "                              address   lifetime  most active  active day  \\\n",
       "0  114Ap9G5nu78vESC648amPwSeqUorPtV5L   28329132          202        1035   \n",
       "1  1168Hc7aRi1azJPFRbCMGFvS1Q7R4taiZ3    1952932           67          14   \n",
       "2  121iUY1czgXaQcEFrKKjbzMUdCquTQgPHL   17622640           71         165   \n",
       "3  121jfy7iR2Q6HCNL3oZFDK2WTjigFZRAVb  103352586           26         348   \n",
       "4  121x1rbwtPk4jg48V42zv1CprdY5Lm1ozb    3172652           14          82   \n",
       "5  125LaznhCAssaRgtjbY3Fvi9jeLFKBaRdZ   42264038          185          79   \n",
       "6  12CnPUD27HKqRq9vgfb8TJb1zeZeU2RiFs   38963350          251          27   \n",
       "7  12cny1s79PGLN9Dfyzk4mskaVRzDYgZEv3     535387           49         522   \n",
       "8  12gPNyfAqzamDkhuZnbTY9dwCA8cuTwNZv  178506156          316        1163   \n",
       "9  12PoNZiEtabwkCU4YFffshWNF1cRiAk5nq   38812331          201        4415   \n",
       "\n",
       "   in vs out  num out  num in  num addr received  num addr sent  median delay  \\\n",
       "0   1.004892     1022    1027               3430           3127          4369   \n",
       "1   0.126126        7       7                 14            111          4559   \n",
       "2   1.000000       86      86               1625            360         25496   \n",
       "3   1.000000      208     208                752            672           362   \n",
       "4   1.000000       53      53                201            148             0   \n",
       "5   1.000000       56      56                349            147           483   \n",
       "6   1.000000       26      26                216            142        181310   \n",
       "7   1.000000      517     517               1380           1273             0   \n",
       "8   1.000000     1158    1158               4312          10270         24363   \n",
       "9   1.000680     4412    4415               5468           9244             0   \n",
       "\n",
       "     mean delay  minimum delay  maximum delay  total received BTC  \\\n",
       "0  2.739761e+04            -64        2881479            9.737518   \n",
       "1  1.502255e+05            473        1031864            0.084129   \n",
       "2  1.074551e+05              0         989807           76.400340   \n",
       "3  2.978461e+05           -427      102562674           44.303918   \n",
       "4  3.916854e+04           -839        2754080           12.938357   \n",
       "5  5.418466e+05              0       19998026            1.543845   \n",
       "6  1.498590e+06              0       21927555            6.476468   \n",
       "7  1.027614e+03            -12         236120           17.138668   \n",
       "8  1.536198e+05              0       69103402           45.446220   \n",
       "9  8.793007e+03           -389       29340591         9020.589926   \n",
       "\n",
       "   total sent BTC  avg received BTC  avg sent BTC  48 diff  class  \n",
       "0        9.746409          0.009528      0.009490     -200      1  \n",
       "1        0.084129          0.012018      0.012018      -65      1  \n",
       "2       76.400340          0.888376      0.888376      -69      1  \n",
       "3       44.303918          0.213000      0.213000       22      1  \n",
       "4       12.938357          0.244120      0.244120       12      1  \n",
       "5        1.543845          0.027569      0.027569      183      1  \n",
       "6        6.476468          0.249095      0.249095       99      1  \n",
       "7       17.138668          0.033150      0.033150       45      1  \n",
       "8       45.446220          0.039245      0.039245     -294      1  \n",
       "9     9020.658530          2.044558      2.043184     -199      1  "
      ]
     },
     "execution_count": 2,
     "metadata": {},
     "output_type": "execute_result"
    }
   ],
   "source": [
    "df = pd.read_excel('./Ponzi.xlsx')\n",
    "df.head(10)"
   ]
  },
  {
   "cell_type": "code",
   "execution_count": 3,
   "metadata": {},
   "outputs": [
    {
     "data": {
      "text/plain": [
       "(6819, 19)"
      ]
     },
     "execution_count": 3,
     "metadata": {},
     "output_type": "execute_result"
    }
   ],
   "source": [
    "df = df.dropna(axis=0, how='any')\n",
    "df.shape"
   ]
  },
  {
   "cell_type": "code",
   "execution_count": 4,
   "metadata": {},
   "outputs": [
    {
     "data": {
      "text/plain": [
       "2    3526\n",
       "0    3008\n",
       "1     285\n",
       "Name: class, dtype: int64"
      ]
     },
     "execution_count": 4,
     "metadata": {},
     "output_type": "execute_result"
    }
   ],
   "source": [
    "df['class'].unique()\n",
    "df['class'].value_counts()"
   ]
  },
  {
   "cell_type": "code",
   "execution_count": 5,
   "metadata": {},
   "outputs": [
    {
     "data": {
      "text/html": [
       "<div>\n",
       "<style scoped>\n",
       "    .dataframe tbody tr th:only-of-type {\n",
       "        vertical-align: middle;\n",
       "    }\n",
       "\n",
       "    .dataframe tbody tr th {\n",
       "        vertical-align: top;\n",
       "    }\n",
       "\n",
       "    .dataframe thead th {\n",
       "        text-align: right;\n",
       "    }\n",
       "</style>\n",
       "<table border=\"1\" class=\"dataframe\">\n",
       "  <thead>\n",
       "    <tr style=\"text-align: right;\">\n",
       "      <th></th>\n",
       "      <th>lifetime</th>\n",
       "      <th>most active</th>\n",
       "      <th>active day</th>\n",
       "      <th>in vs out</th>\n",
       "      <th>num out</th>\n",
       "      <th>num in</th>\n",
       "      <th>num addr received</th>\n",
       "      <th>num addr sent</th>\n",
       "      <th>median delay</th>\n",
       "      <th>mean delay</th>\n",
       "      <th>minimum delay</th>\n",
       "      <th>maximum delay</th>\n",
       "      <th>total received BTC</th>\n",
       "      <th>total sent BTC</th>\n",
       "      <th>avg received BTC</th>\n",
       "      <th>avg sent BTC</th>\n",
       "      <th>48 diff</th>\n",
       "      <th>class</th>\n",
       "    </tr>\n",
       "  </thead>\n",
       "  <tbody>\n",
       "    <tr>\n",
       "      <th>0</th>\n",
       "      <td>28329132</td>\n",
       "      <td>202</td>\n",
       "      <td>1035</td>\n",
       "      <td>1.004892</td>\n",
       "      <td>1022</td>\n",
       "      <td>1027</td>\n",
       "      <td>3430</td>\n",
       "      <td>3127</td>\n",
       "      <td>4369</td>\n",
       "      <td>27397.61315</td>\n",
       "      <td>-64</td>\n",
       "      <td>2881479</td>\n",
       "      <td>9.737518</td>\n",
       "      <td>9.746409</td>\n",
       "      <td>0.009528</td>\n",
       "      <td>0.009490</td>\n",
       "      <td>-200</td>\n",
       "      <td>1</td>\n",
       "    </tr>\n",
       "    <tr>\n",
       "      <th>1</th>\n",
       "      <td>1952932</td>\n",
       "      <td>67</td>\n",
       "      <td>14</td>\n",
       "      <td>0.126126</td>\n",
       "      <td>7</td>\n",
       "      <td>7</td>\n",
       "      <td>14</td>\n",
       "      <td>111</td>\n",
       "      <td>4559</td>\n",
       "      <td>150225.53850</td>\n",
       "      <td>473</td>\n",
       "      <td>1031864</td>\n",
       "      <td>0.084129</td>\n",
       "      <td>0.084129</td>\n",
       "      <td>0.012018</td>\n",
       "      <td>0.012018</td>\n",
       "      <td>-65</td>\n",
       "      <td>1</td>\n",
       "    </tr>\n",
       "    <tr>\n",
       "      <th>2</th>\n",
       "      <td>17622640</td>\n",
       "      <td>71</td>\n",
       "      <td>165</td>\n",
       "      <td>1.000000</td>\n",
       "      <td>86</td>\n",
       "      <td>86</td>\n",
       "      <td>1625</td>\n",
       "      <td>360</td>\n",
       "      <td>25496</td>\n",
       "      <td>107455.12200</td>\n",
       "      <td>0</td>\n",
       "      <td>989807</td>\n",
       "      <td>76.400340</td>\n",
       "      <td>76.400340</td>\n",
       "      <td>0.888376</td>\n",
       "      <td>0.888376</td>\n",
       "      <td>-69</td>\n",
       "      <td>1</td>\n",
       "    </tr>\n",
       "    <tr>\n",
       "      <th>3</th>\n",
       "      <td>103352586</td>\n",
       "      <td>26</td>\n",
       "      <td>348</td>\n",
       "      <td>1.000000</td>\n",
       "      <td>208</td>\n",
       "      <td>208</td>\n",
       "      <td>752</td>\n",
       "      <td>672</td>\n",
       "      <td>362</td>\n",
       "      <td>297846.06920</td>\n",
       "      <td>-427</td>\n",
       "      <td>102562674</td>\n",
       "      <td>44.303918</td>\n",
       "      <td>44.303918</td>\n",
       "      <td>0.213000</td>\n",
       "      <td>0.213000</td>\n",
       "      <td>22</td>\n",
       "      <td>1</td>\n",
       "    </tr>\n",
       "    <tr>\n",
       "      <th>4</th>\n",
       "      <td>3172652</td>\n",
       "      <td>14</td>\n",
       "      <td>82</td>\n",
       "      <td>1.000000</td>\n",
       "      <td>53</td>\n",
       "      <td>53</td>\n",
       "      <td>201</td>\n",
       "      <td>148</td>\n",
       "      <td>0</td>\n",
       "      <td>39168.54321</td>\n",
       "      <td>-839</td>\n",
       "      <td>2754080</td>\n",
       "      <td>12.938357</td>\n",
       "      <td>12.938357</td>\n",
       "      <td>0.244120</td>\n",
       "      <td>0.244120</td>\n",
       "      <td>12</td>\n",
       "      <td>1</td>\n",
       "    </tr>\n",
       "  </tbody>\n",
       "</table>\n",
       "</div>"
      ],
      "text/plain": [
       "    lifetime  most active  active day  in vs out  num out  num in  \\\n",
       "0   28329132          202        1035   1.004892     1022    1027   \n",
       "1    1952932           67          14   0.126126        7       7   \n",
       "2   17622640           71         165   1.000000       86      86   \n",
       "3  103352586           26         348   1.000000      208     208   \n",
       "4    3172652           14          82   1.000000       53      53   \n",
       "\n",
       "   num addr received  num addr sent  median delay    mean delay  \\\n",
       "0               3430           3127          4369   27397.61315   \n",
       "1                 14            111          4559  150225.53850   \n",
       "2               1625            360         25496  107455.12200   \n",
       "3                752            672           362  297846.06920   \n",
       "4                201            148             0   39168.54321   \n",
       "\n",
       "   minimum delay  maximum delay  total received BTC  total sent BTC  \\\n",
       "0            -64        2881479            9.737518        9.746409   \n",
       "1            473        1031864            0.084129        0.084129   \n",
       "2              0         989807           76.400340       76.400340   \n",
       "3           -427      102562674           44.303918       44.303918   \n",
       "4           -839        2754080           12.938357       12.938357   \n",
       "\n",
       "   avg received BTC  avg sent BTC  48 diff  class  \n",
       "0          0.009528      0.009490     -200      1  \n",
       "1          0.012018      0.012018      -65      1  \n",
       "2          0.888376      0.888376      -69      1  \n",
       "3          0.213000      0.213000       22      1  \n",
       "4          0.244120      0.244120       12      1  "
      ]
     },
     "execution_count": 5,
     "metadata": {},
     "output_type": "execute_result"
    }
   ],
   "source": [
    "del df['address']\n",
    "df.head()"
   ]
  },
  {
   "cell_type": "code",
   "execution_count": 6,
   "metadata": {},
   "outputs": [
    {
     "data": {
      "text/plain": [
       "Index(['lifetime', 'most active', 'active day', 'in vs out', 'num out',\n",
       "       'num in', 'num addr received', 'num addr sent', 'median delay',\n",
       "       'mean delay', 'minimum delay', 'maximum delay', 'total received BTC',\n",
       "       'total sent BTC', 'avg received BTC', 'avg sent BTC', '48 diff',\n",
       "       'class'],\n",
       "      dtype='object')"
      ]
     },
     "execution_count": 6,
     "metadata": {},
     "output_type": "execute_result"
    }
   ],
   "source": [
    "df.columns"
   ]
  },
  {
   "cell_type": "code",
   "execution_count": 7,
   "metadata": {},
   "outputs": [],
   "source": [
    "def get_day(x):\n",
    "    day_second = 60*60*24\n",
    "    return int(x/day_second)"
   ]
  },
  {
   "cell_type": "code",
   "execution_count": 8,
   "metadata": {},
   "outputs": [],
   "source": [
    "df['lifetime'] = df['lifetime'].map(get_day)\n",
    "\n",
    "df['median delay'] = df['median delay'].map(get_day)\n",
    "\n",
    "df['minimum delay'] = df['minimum delay'].map(get_day)\n",
    "\n",
    "df['maximum delay'] = df['maximum delay'].map(get_day)\n",
    "\n",
    "df['mean delay'] = df['mean delay'].map(get_day)"
   ]
  },
  {
   "cell_type": "markdown",
   "metadata": {},
   "source": [
    "把以秒为单位的数据转化为天，因为其他数据基本都是以天为单位的，要不然单位差的太多，数据值会有太多出入"
   ]
  },
  {
   "cell_type": "code",
   "execution_count": 9,
   "metadata": {},
   "outputs": [
    {
     "data": {
      "text/html": [
       "<div>\n",
       "<style scoped>\n",
       "    .dataframe tbody tr th:only-of-type {\n",
       "        vertical-align: middle;\n",
       "    }\n",
       "\n",
       "    .dataframe tbody tr th {\n",
       "        vertical-align: top;\n",
       "    }\n",
       "\n",
       "    .dataframe thead th {\n",
       "        text-align: right;\n",
       "    }\n",
       "</style>\n",
       "<table border=\"1\" class=\"dataframe\">\n",
       "  <thead>\n",
       "    <tr style=\"text-align: right;\">\n",
       "      <th></th>\n",
       "      <th>lifetime</th>\n",
       "      <th>most active</th>\n",
       "      <th>active day</th>\n",
       "      <th>in vs out</th>\n",
       "      <th>num out</th>\n",
       "      <th>num in</th>\n",
       "      <th>num addr received</th>\n",
       "      <th>num addr sent</th>\n",
       "      <th>median delay</th>\n",
       "      <th>mean delay</th>\n",
       "      <th>minimum delay</th>\n",
       "      <th>maximum delay</th>\n",
       "      <th>total received BTC</th>\n",
       "      <th>total sent BTC</th>\n",
       "      <th>avg received BTC</th>\n",
       "      <th>avg sent BTC</th>\n",
       "      <th>48 diff</th>\n",
       "      <th>class</th>\n",
       "    </tr>\n",
       "  </thead>\n",
       "  <tbody>\n",
       "    <tr>\n",
       "      <th>0</th>\n",
       "      <td>327</td>\n",
       "      <td>202</td>\n",
       "      <td>1035</td>\n",
       "      <td>1.004892</td>\n",
       "      <td>1022</td>\n",
       "      <td>1027</td>\n",
       "      <td>3430</td>\n",
       "      <td>3127</td>\n",
       "      <td>0</td>\n",
       "      <td>0</td>\n",
       "      <td>0</td>\n",
       "      <td>33</td>\n",
       "      <td>9.737518</td>\n",
       "      <td>9.746409</td>\n",
       "      <td>0.009528</td>\n",
       "      <td>0.009490</td>\n",
       "      <td>-200</td>\n",
       "      <td>1</td>\n",
       "    </tr>\n",
       "    <tr>\n",
       "      <th>1</th>\n",
       "      <td>22</td>\n",
       "      <td>67</td>\n",
       "      <td>14</td>\n",
       "      <td>0.126126</td>\n",
       "      <td>7</td>\n",
       "      <td>7</td>\n",
       "      <td>14</td>\n",
       "      <td>111</td>\n",
       "      <td>0</td>\n",
       "      <td>1</td>\n",
       "      <td>0</td>\n",
       "      <td>11</td>\n",
       "      <td>0.084129</td>\n",
       "      <td>0.084129</td>\n",
       "      <td>0.012018</td>\n",
       "      <td>0.012018</td>\n",
       "      <td>-65</td>\n",
       "      <td>1</td>\n",
       "    </tr>\n",
       "    <tr>\n",
       "      <th>2</th>\n",
       "      <td>203</td>\n",
       "      <td>71</td>\n",
       "      <td>165</td>\n",
       "      <td>1.000000</td>\n",
       "      <td>86</td>\n",
       "      <td>86</td>\n",
       "      <td>1625</td>\n",
       "      <td>360</td>\n",
       "      <td>0</td>\n",
       "      <td>1</td>\n",
       "      <td>0</td>\n",
       "      <td>11</td>\n",
       "      <td>76.400340</td>\n",
       "      <td>76.400340</td>\n",
       "      <td>0.888376</td>\n",
       "      <td>0.888376</td>\n",
       "      <td>-69</td>\n",
       "      <td>1</td>\n",
       "    </tr>\n",
       "    <tr>\n",
       "      <th>3</th>\n",
       "      <td>1196</td>\n",
       "      <td>26</td>\n",
       "      <td>348</td>\n",
       "      <td>1.000000</td>\n",
       "      <td>208</td>\n",
       "      <td>208</td>\n",
       "      <td>752</td>\n",
       "      <td>672</td>\n",
       "      <td>0</td>\n",
       "      <td>3</td>\n",
       "      <td>0</td>\n",
       "      <td>1187</td>\n",
       "      <td>44.303918</td>\n",
       "      <td>44.303918</td>\n",
       "      <td>0.213000</td>\n",
       "      <td>0.213000</td>\n",
       "      <td>22</td>\n",
       "      <td>1</td>\n",
       "    </tr>\n",
       "    <tr>\n",
       "      <th>4</th>\n",
       "      <td>36</td>\n",
       "      <td>14</td>\n",
       "      <td>82</td>\n",
       "      <td>1.000000</td>\n",
       "      <td>53</td>\n",
       "      <td>53</td>\n",
       "      <td>201</td>\n",
       "      <td>148</td>\n",
       "      <td>0</td>\n",
       "      <td>0</td>\n",
       "      <td>0</td>\n",
       "      <td>31</td>\n",
       "      <td>12.938357</td>\n",
       "      <td>12.938357</td>\n",
       "      <td>0.244120</td>\n",
       "      <td>0.244120</td>\n",
       "      <td>12</td>\n",
       "      <td>1</td>\n",
       "    </tr>\n",
       "  </tbody>\n",
       "</table>\n",
       "</div>"
      ],
      "text/plain": [
       "   lifetime  most active  active day  in vs out  num out  num in  \\\n",
       "0       327          202        1035   1.004892     1022    1027   \n",
       "1        22           67          14   0.126126        7       7   \n",
       "2       203           71         165   1.000000       86      86   \n",
       "3      1196           26         348   1.000000      208     208   \n",
       "4        36           14          82   1.000000       53      53   \n",
       "\n",
       "   num addr received  num addr sent  median delay  mean delay  minimum delay  \\\n",
       "0               3430           3127             0           0              0   \n",
       "1                 14            111             0           1              0   \n",
       "2               1625            360             0           1              0   \n",
       "3                752            672             0           3              0   \n",
       "4                201            148             0           0              0   \n",
       "\n",
       "   maximum delay  total received BTC  total sent BTC  avg received BTC  \\\n",
       "0             33            9.737518        9.746409          0.009528   \n",
       "1             11            0.084129        0.084129          0.012018   \n",
       "2             11           76.400340       76.400340          0.888376   \n",
       "3           1187           44.303918       44.303918          0.213000   \n",
       "4             31           12.938357       12.938357          0.244120   \n",
       "\n",
       "   avg sent BTC  48 diff  class  \n",
       "0      0.009490     -200      1  \n",
       "1      0.012018      -65      1  \n",
       "2      0.888376      -69      1  \n",
       "3      0.213000       22      1  \n",
       "4      0.244120       12      1  "
      ]
     },
     "execution_count": 9,
     "metadata": {},
     "output_type": "execute_result"
    }
   ],
   "source": [
    "df.head()"
   ]
  },
  {
   "cell_type": "code",
   "execution_count": 10,
   "metadata": {},
   "outputs": [],
   "source": [
    "X = df.iloc[:, df.columns != 'class']\n",
    "y = df.iloc[:, df.columns == 'class']"
   ]
  },
  {
   "cell_type": "code",
   "execution_count": 11,
   "metadata": {},
   "outputs": [],
   "source": [
    "#X = StandardScaler().fit_transform(X)\n",
    "X = MinMaxScaler().fit_transform(X)"
   ]
  },
  {
   "cell_type": "code",
   "execution_count": 12,
   "metadata": {},
   "outputs": [],
   "source": [
    "X_train, X_test, y_train, y_test = train_test_split(X, y, test_size=0.1,random_state=0)"
   ]
  },
  {
   "cell_type": "markdown",
   "metadata": {},
   "source": [
    "标准化，把数据处理为均值为0， 方差为1的数据 归一化，把数据压缩到 0-1 之间，利于模型计算 使用支持向量机等计算量很大的模型，对于数据的标准处理还是有很高要求的"
   ]
  },
  {
   "cell_type": "code",
   "execution_count": 13,
   "metadata": {},
   "outputs": [],
   "source": [
    "# oversampling & undersampling"
   ]
  },
  {
   "cell_type": "code",
   "execution_count": 14,
   "metadata": {},
   "outputs": [],
   "source": [
    "from imblearn.over_sampling import RandomOverSampler\n",
    "from imblearn.under_sampling import RandomUnderSampler"
   ]
  },
  {
   "cell_type": "code",
   "execution_count": 15,
   "metadata": {},
   "outputs": [
    {
     "name": "stdout",
     "output_type": "stream",
     "text": [
      "(6819, 17)\n",
      "(9546, 17)\n"
     ]
    }
   ],
   "source": [
    "ros = RandomOverSampler(random_state=42)\n",
    "#ros.fit(X_train, y_train)\n",
    "X_over, y_over = ros.fit_resample(X_train, y_train)\n",
    "print(X.shape)\n",
    "print(X_over.shape)"
   ]
  },
  {
   "cell_type": "code",
   "execution_count": 16,
   "metadata": {},
   "outputs": [
    {
     "name": "stdout",
     "output_type": "stream",
     "text": [
      "(6819, 17)\n",
      "(762, 17)\n"
     ]
    }
   ],
   "source": [
    "rus = RandomUnderSampler(random_state=42)\n",
    "# resampling X, y\n",
    "X_under, y_under = rus.fit_resample(X_train, y_train)\n",
    "print(X.shape)\n",
    "print(X_under.shape)"
   ]
  },
  {
   "cell_type": "markdown",
   "metadata": {},
   "source": [
    "# STOME"
   ]
  },
  {
   "cell_type": "code",
   "execution_count": 17,
   "metadata": {},
   "outputs": [],
   "source": [
    "from imblearn.over_sampling import SMOTE\n",
    "\n",
    "model_smote = SMOTE()\n",
    "#resample based on smote\n",
    "X_train_smote,y_train_smote = model_smote.fit_resample(X_train,y_train)"
   ]
  },
  {
   "cell_type": "code",
   "execution_count": 18,
   "metadata": {},
   "outputs": [
    {
     "name": "stdout",
     "output_type": "stream",
     "text": [
      "(6819, 17)\n",
      "(9546, 17)\n"
     ]
    }
   ],
   "source": [
    "#change after SMOTE\n",
    "print(X.shape)\n",
    "print(X_train_smote.shape)"
   ]
  },
  {
   "cell_type": "code",
   "execution_count": 19,
   "metadata": {},
   "outputs": [
    {
     "name": "stdout",
     "output_type": "stream",
     "text": [
      "(6819, 1)\n",
      "(9546, 1)\n"
     ]
    }
   ],
   "source": [
    "print(y.shape)\n",
    "print(y_train_smote.shape)"
   ]
  },
  {
   "cell_type": "code",
   "execution_count": 20,
   "metadata": {},
   "outputs": [],
   "source": [
    "#train test split\n",
    "#X_train_smote, X_test_smote, y_train_smote, y_test_smote = train_test_split(smote_X, smote_y, test_size=0.1,random_state=0)"
   ]
  },
  {
   "cell_type": "markdown",
   "metadata": {},
   "source": [
    "# STOMEENN"
   ]
  },
  {
   "cell_type": "code",
   "execution_count": 21,
   "metadata": {},
   "outputs": [],
   "source": [
    "from imblearn.combine import SMOTEENN "
   ]
  },
  {
   "cell_type": "code",
   "execution_count": 22,
   "metadata": {},
   "outputs": [],
   "source": [
    "sme = SMOTEENN('not majority',random_state=42)\n",
    "X_train_sme, y_train_sme = sme.fit_resample(X_train, y_train)"
   ]
  },
  {
   "cell_type": "code",
   "execution_count": 23,
   "metadata": {},
   "outputs": [
    {
     "name": "stdout",
     "output_type": "stream",
     "text": [
      "(6819, 17)\n",
      "(5645, 17)\n"
     ]
    }
   ],
   "source": [
    "#change after STOMEENN\n",
    "print(X.shape)\n",
    "print(X_train_sme.shape)"
   ]
  },
  {
   "cell_type": "code",
   "execution_count": 24,
   "metadata": {},
   "outputs": [],
   "source": [
    "#X_train_sme, X_test_sme, y_train_sme, y_test_sme = train_test_split(X_sme, y_sme, test_size=0.1,random_state=0)"
   ]
  },
  {
   "cell_type": "markdown",
   "metadata": {},
   "source": [
    " # ADASYN"
   ]
  },
  {
   "cell_type": "code",
   "execution_count": 25,
   "metadata": {},
   "outputs": [],
   "source": [
    "from imblearn.over_sampling import ADASYN"
   ]
  },
  {
   "cell_type": "code",
   "execution_count": 26,
   "metadata": {},
   "outputs": [],
   "source": [
    "syn = ADASYN('not majority',random_state=42)\n",
    "X_train_syn, y_train_syn = syn.fit_sample(X_train, y_train)"
   ]
  },
  {
   "cell_type": "code",
   "execution_count": 27,
   "metadata": {},
   "outputs": [],
   "source": [
    "#change after ADASYN\n",
    "# print(X.shape)\n",
    "# print(X_train_syn)"
   ]
  },
  {
   "cell_type": "code",
   "execution_count": 28,
   "metadata": {},
   "outputs": [],
   "source": [
    "#X_train_syn, X_test_syn, y_train_syn, y_test_syn = train_test_split(X_syn, y_syn, test_size=0.1,random_state=0)"
   ]
  },
  {
   "cell_type": "markdown",
   "metadata": {},
   "source": [
    "# TomekLinks"
   ]
  },
  {
   "cell_type": "code",
   "execution_count": 29,
   "metadata": {},
   "outputs": [],
   "source": [
    "from imblearn.under_sampling import TomekLinks "
   ]
  },
  {
   "cell_type": "code",
   "execution_count": 30,
   "metadata": {},
   "outputs": [],
   "source": [
    "# define the undersampling method\n",
    "tme = TomekLinks('not majority')#random_state=42"
   ]
  },
  {
   "cell_type": "code",
   "execution_count": 31,
   "metadata": {},
   "outputs": [],
   "source": [
    "X_train_tme,y_train_tme = tme.fit_sample(X_train, y_train)"
   ]
  },
  {
   "cell_type": "code",
   "execution_count": 32,
   "metadata": {},
   "outputs": [
    {
     "name": "stdout",
     "output_type": "stream",
     "text": [
      "(6819, 17)\n",
      "(5743, 17)\n"
     ]
    }
   ],
   "source": [
    "#change after TomekLinks\n",
    "print(X.shape)\n",
    "print(X_train_tme.shape)"
   ]
  },
  {
   "cell_type": "code",
   "execution_count": 33,
   "metadata": {},
   "outputs": [],
   "source": [
    "#train test split\n",
    "#X_train_tme, X_test_tme, y_train_tme, y_test_tme = train_test_split(X_tme, y_tme, test_size=0.1,random_state=0)                                      "
   ]
  },
  {
   "cell_type": "markdown",
   "metadata": {},
   "source": [
    "# SVM "
   ]
  },
  {
   "cell_type": "code",
   "execution_count": 34,
   "metadata": {},
   "outputs": [],
   "source": [
    "svm = SVC(kernel='rbf'\n",
    "          ,degree=3\n",
    "          ,random_state=0)"
   ]
  },
  {
   "cell_type": "code",
   "execution_count": 35,
   "metadata": {},
   "outputs": [],
   "source": [
    "def get_score(y_test, y_pred):\n",
    "    recall = recall_score(y_test, y_pred, average=\"weighted\")\n",
    "    f1 = f1_score(y_test, y_pred, average=\"weighted\")\n",
    "    precision = precision_score(y_test, y_pred, average=\"weighted\")\n",
    "    accuracy = accuracy_score(y_test, y_pred)\n",
    "    print('''\n",
    "    Recall = {},\n",
    "    F1_score = {}\n",
    "    precision = {} \n",
    "    accuracy = {}\n",
    "    '''.format(recall, f1,precision, accuracy))"
   ]
  },
  {
   "cell_type": "markdown",
   "metadata": {},
   "source": [
    "### oversampling"
   ]
  },
  {
   "cell_type": "code",
   "execution_count": 36,
   "metadata": {},
   "outputs": [
    {
     "name": "stdout",
     "output_type": "stream",
     "text": [
      "\n",
      "    Recall = 0.6158357771260997,\n",
      "    F1_score = 0.6005941926990812\n",
      "    precision = 0.662996465641649 \n",
      "    accuracy = 0.6158357771260997\n",
      "    \n"
     ]
    }
   ],
   "source": [
    "svm.fit(X_over, y_over)\n",
    "\n",
    "y_pred_over = svm.predict(X_test)\n",
    "\n",
    "get_score(y_test, y_pred_over)\n"
   ]
  },
  {
   "cell_type": "code",
   "execution_count": 37,
   "metadata": {},
   "outputs": [
    {
     "name": "stdout",
     "output_type": "stream",
     "text": [
      "[[120   8  27]\n",
      " [ 12   9  26]\n",
      " [175  14 291]]\n"
     ]
    }
   ],
   "source": [
    "cm_over_svm = confusion_matrix(y_pred_over, y_test)\n",
    "print(cm_over_svm)\n"
   ]
  },
  {
   "cell_type": "code",
   "execution_count": 38,
   "metadata": {},
   "outputs": [
    {
     "data": {
      "image/png": "[encoded data removed]",
      "text/plain": [
       "<Figure size 864x576 with 2 Axes>"
      ]
     },
     "metadata": {
      "needs_background": "light"
     },
     "output_type": "display_data"
    }
   ],
   "source": [
    "from sklearn.metrics import confusion_matrix, ConfusionMatrixDisplay\n",
    "disp = ConfusionMatrixDisplay(confusion_matrix=cm_over_svm)#, display_labels=class_names)#cmap=plt.cm.Blues\n",
    "\n",
    "disp = disp.plot(cmap=plt.cm.Blues)#,values_format='g')\n",
    "plt.show()\n",
    "#plt.savefig('confusion_matrix_SMOTE_SVM.png')\n"
   ]
  },
  {
   "cell_type": "code",
   "execution_count": 39,
   "metadata": {},
   "outputs": [
    {
     "name": "stdout",
     "output_type": "stream",
     "text": [
      "              precision    recall  f1-score   support\n",
      "\n",
      "           0       0.77      0.39      0.52       307\n",
      "           1       0.19      0.29      0.23        31\n",
      "           2       0.61      0.85      0.71       344\n",
      "\n",
      "    accuracy                           0.62       682\n",
      "   macro avg       0.52      0.51      0.49       682\n",
      "weighted avg       0.66      0.62      0.60       682\n",
      "\n"
     ]
    }
   ],
   "source": [
    "print(classification_report(y_test,y_pred_over))"
   ]
  },
  {
   "cell_type": "markdown",
   "metadata": {},
   "source": [
    "### undersampling"
   ]
  },
  {
   "cell_type": "code",
   "execution_count": 40,
   "metadata": {},
   "outputs": [
    {
     "name": "stdout",
     "output_type": "stream",
     "text": [
      "\n",
      "    Recall = 0.6173020527859238,\n",
      "    F1_score = 0.5847746923259821\n",
      "    precision = 0.6808069302472889 \n",
      "    accuracy = 0.6173020527859238\n",
      "    \n",
      "[[103   6  15]\n",
      " [  6   6  17]\n",
      " [198  19 312]]\n"
     ]
    }
   ],
   "source": [
    "svm.fit(X_under, y_under)\n",
    "\n",
    "y_pred_under = svm.predict(X_test)\n",
    "\n",
    "get_score(y_test, y_pred_under)\n",
    "\n",
    "\n",
    "cm_under_svm = confusion_matrix(y_pred_under, y_test)\n",
    "print(cm_under_svm)"
   ]
  },
  {
   "cell_type": "code",
   "execution_count": 41,
   "metadata": {},
   "outputs": [
    {
     "data": {
      "image/png": "[encoded data removed]",
      "text/plain": [
       "<Figure size 864x576 with 2 Axes>"
      ]
     },
     "metadata": {
      "needs_background": "light"
     },
     "output_type": "display_data"
    },
    {
     "name": "stdout",
     "output_type": "stream",
     "text": [
      "              precision    recall  f1-score   support\n",
      "\n",
      "           0       0.83      0.34      0.48       307\n",
      "           1       0.21      0.19      0.20        31\n",
      "           2       0.59      0.91      0.71       344\n",
      "\n",
      "    accuracy                           0.62       682\n",
      "   macro avg       0.54      0.48      0.46       682\n",
      "weighted avg       0.68      0.62      0.58       682\n",
      "\n"
     ]
    }
   ],
   "source": [
    "disp = ConfusionMatrixDisplay(confusion_matrix=cm_under_svm)#, display_labels=class_names)#cmap=plt.cm.Blues\n",
    "\n",
    "disp = disp.plot(cmap=plt.cm.Blues)#,values_format='g')\n",
    "plt.show()\n",
    "#plt.savefig('confusion_matrix_SMOTE_SVM.png')\n",
    "\n",
    "print(classification_report(y_test,y_pred_under))"
   ]
  },
  {
   "cell_type": "markdown",
   "metadata": {},
   "source": [
    "### smote "
   ]
  },
  {
   "cell_type": "code",
   "execution_count": 42,
   "metadata": {},
   "outputs": [
    {
     "data": {
      "text/plain": [
       "SVC(random_state=0)"
      ]
     },
     "execution_count": 42,
     "metadata": {},
     "output_type": "execute_result"
    }
   ],
   "source": [
    "svm.fit(X_train_smote, y_train_smote)"
   ]
  },
  {
   "cell_type": "code",
   "execution_count": 43,
   "metadata": {},
   "outputs": [],
   "source": [
    "y_pred_smote = svm.predict(X_test)"
   ]
  },
  {
   "cell_type": "code",
   "execution_count": null,
   "metadata": {},
   "outputs": [],
   "source": []
  },
  {
   "cell_type": "code",
   "execution_count": 44,
   "metadata": {},
   "outputs": [
    {
     "name": "stdout",
     "output_type": "stream",
     "text": [
      "\n",
      "    Recall = 0.6158357771260997,\n",
      "    F1_score = 0.6013081068146252\n",
      "    precision = 0.6679220256691543 \n",
      "    accuracy = 0.6158357771260997\n",
      "    \n"
     ]
    }
   ],
   "source": [
    "get_score(y_test, y_pred_smote)"
   ]
  },
  {
   "cell_type": "code",
   "execution_count": 45,
   "metadata": {},
   "outputs": [
    {
     "name": "stdout",
     "output_type": "stream",
     "text": [
      "[[119   9  24]\n",
      " [ 14   9  28]\n",
      " [174  13 292]]\n"
     ]
    }
   ],
   "source": [
    "cm_smote_svm = confusion_matrix(y_pred_smote, y_test)\n",
    "print(cm_smote_svm)"
   ]
  },
  {
   "cell_type": "code",
   "execution_count": 46,
   "metadata": {},
   "outputs": [
    {
     "data": {
      "image/png": "[encoded data removed]",
      "text/plain": [
       "<Figure size 864x576 with 2 Axes>"
      ]
     },
     "metadata": {
      "needs_background": "light"
     },
     "output_type": "display_data"
    }
   ],
   "source": [
    "from sklearn.metrics import confusion_matrix, ConfusionMatrixDisplay\n",
    "disp = ConfusionMatrixDisplay(confusion_matrix=cm_smote_svm)#, display_labels=class_names)#cmap=plt.cm.Blues\n",
    "#disp.ax.set_title('SMOTE SVM')\n",
    "disp = disp.plot(cmap=plt.cm.Blues)#,values_format='g')\n",
    "plt.show()\n",
    "#plt.savefig('confusion_matrix_SMOTE_SVM.png')"
   ]
  },
  {
   "cell_type": "code",
   "execution_count": null,
   "metadata": {},
   "outputs": [],
   "source": []
  },
  {
   "cell_type": "code",
   "execution_count": 47,
   "metadata": {},
   "outputs": [
    {
     "name": "stdout",
     "output_type": "stream",
     "text": [
      "              precision    recall  f1-score   support\n",
      "\n",
      "           0       0.78      0.39      0.52       307\n",
      "           1       0.18      0.29      0.22        31\n",
      "           2       0.61      0.85      0.71       344\n",
      "\n",
      "    accuracy                           0.62       682\n",
      "   macro avg       0.52      0.51      0.48       682\n",
      "weighted avg       0.67      0.62      0.60       682\n",
      "\n"
     ]
    }
   ],
   "source": [
    "print(classification_report(y_test,y_pred_smote))"
   ]
  },
  {
   "cell_type": "code",
   "execution_count": null,
   "metadata": {},
   "outputs": [],
   "source": []
  },
  {
   "cell_type": "code",
   "execution_count": null,
   "metadata": {},
   "outputs": [],
   "source": []
  },
  {
   "cell_type": "markdown",
   "metadata": {},
   "source": [
    "### STOMEENN"
   ]
  },
  {
   "cell_type": "code",
   "execution_count": 48,
   "metadata": {},
   "outputs": [
    {
     "data": {
      "text/plain": [
       "SVC(random_state=0)"
      ]
     },
     "execution_count": 48,
     "metadata": {},
     "output_type": "execute_result"
    }
   ],
   "source": [
    "svm.fit(X_train_sme, y_train_sme)"
   ]
  },
  {
   "cell_type": "code",
   "execution_count": 49,
   "metadata": {},
   "outputs": [],
   "source": [
    "y_pred_sme = svm.predict(X_test)\n"
   ]
  },
  {
   "cell_type": "code",
   "execution_count": 50,
   "metadata": {},
   "outputs": [
    {
     "name": "stdout",
     "output_type": "stream",
     "text": [
      "\n",
      "    Recall = 0.5498533724340176,\n",
      "    F1_score = 0.5356512512152384\n",
      "    precision = 0.7151296640897374 \n",
      "    accuracy = 0.5498533724340176\n",
      "    \n"
     ]
    }
   ],
   "source": [
    "get_score(y_test, y_pred_sme)\n"
   ]
  },
  {
   "cell_type": "code",
   "execution_count": 51,
   "metadata": {},
   "outputs": [
    {
     "name": "stdout",
     "output_type": "stream",
     "text": [
      "[[ 73   3   7]\n",
      " [ 71  18  53]\n",
      " [163  10 284]]\n"
     ]
    }
   ],
   "source": [
    "cm_sme_svm = confusion_matrix(y_pred_sme, y_test)\n",
    "print(cm_sme_svm)"
   ]
  },
  {
   "cell_type": "code",
   "execution_count": 52,
   "metadata": {},
   "outputs": [
    {
     "data": {
      "image/png": "[encoded data removed]",
      "text/plain": [
       "<Figure size 864x576 with 2 Axes>"
      ]
     },
     "metadata": {
      "needs_background": "light"
     },
     "output_type": "display_data"
    }
   ],
   "source": [
    "from sklearn.metrics import confusion_matrix, ConfusionMatrixDisplay\n",
    "disp = ConfusionMatrixDisplay(confusion_matrix=cm_sme_svm)#, display_labels=class_names)#cmap=plt.cm.Blues\n",
    "#disp.ax.set_title('SMOTE SVM')\n",
    "disp = disp.plot(cmap=plt.cm.Blues)#,values_format='g')\n",
    "plt.show()\n",
    "#plt.savefig('confusion_matrix_SMOTEENN_SVM.png')"
   ]
  },
  {
   "cell_type": "code",
   "execution_count": 53,
   "metadata": {},
   "outputs": [
    {
     "name": "stdout",
     "output_type": "stream",
     "text": [
      "              precision    recall  f1-score   support\n",
      "\n",
      "           0       0.88      0.24      0.37       307\n",
      "           1       0.13      0.58      0.21        31\n",
      "           2       0.62      0.83      0.71       344\n",
      "\n",
      "    accuracy                           0.55       682\n",
      "   macro avg       0.54      0.55      0.43       682\n",
      "weighted avg       0.72      0.55      0.54       682\n",
      "\n"
     ]
    }
   ],
   "source": [
    "print(classification_report(y_test,y_pred_sme))"
   ]
  },
  {
   "cell_type": "markdown",
   "metadata": {},
   "source": [
    "### ADASYN"
   ]
  },
  {
   "cell_type": "code",
   "execution_count": 54,
   "metadata": {},
   "outputs": [
    {
     "data": {
      "text/plain": [
       "SVC(random_state=0)"
      ]
     },
     "execution_count": 54,
     "metadata": {},
     "output_type": "execute_result"
    }
   ],
   "source": [
    "svm.fit(X_train_syn, y_train_syn)"
   ]
  },
  {
   "cell_type": "code",
   "execution_count": 55,
   "metadata": {},
   "outputs": [],
   "source": [
    "y_pred_syn = svm.predict(X_test)"
   ]
  },
  {
   "cell_type": "code",
   "execution_count": 56,
   "metadata": {},
   "outputs": [
    {
     "name": "stdout",
     "output_type": "stream",
     "text": [
      "\n",
      "    Recall = 0.6026392961876833,\n",
      "    F1_score = 0.5912797323688413\n",
      "    precision = 0.6791596046004731 \n",
      "    accuracy = 0.6026392961876833\n",
      "    \n"
     ]
    }
   ],
   "source": [
    "get_score(y_test, y_pred_syn)"
   ]
  },
  {
   "cell_type": "code",
   "execution_count": 57,
   "metadata": {},
   "outputs": [
    {
     "name": "stdout",
     "output_type": "stream",
     "text": [
      "[[111   8  18]\n",
      " [ 24  10  36]\n",
      " [172  13 290]]\n"
     ]
    }
   ],
   "source": [
    "cm_syn_svm = confusion_matrix(y_pred_syn, y_test)\n",
    "print(cm_syn_svm)"
   ]
  },
  {
   "cell_type": "code",
   "execution_count": 58,
   "metadata": {},
   "outputs": [
    {
     "data": {
      "image/png": "[encoded data removed]",
      "text/plain": [
       "<Figure size 864x576 with 2 Axes>"
      ]
     },
     "metadata": {
      "needs_background": "light"
     },
     "output_type": "display_data"
    },
    {
     "data": {
      "text/plain": [
       "<Figure size 864x576 with 0 Axes>"
      ]
     },
     "metadata": {},
     "output_type": "display_data"
    }
   ],
   "source": [
    "from sklearn.metrics import confusion_matrix, ConfusionMatrixDisplay\n",
    "disp = ConfusionMatrixDisplay(confusion_matrix=cm_syn_svm)#, display_labels=class_names)#cmap=plt.cm.Blues\n",
    "disp = disp.plot(cmap=plt.cm.Blues)#,values_format='g')\n",
    "plt.show()\n",
    "plt.savefig('confusion_matrix_ADASYN_SVM.png')"
   ]
  },
  {
   "cell_type": "code",
   "execution_count": 59,
   "metadata": {},
   "outputs": [
    {
     "name": "stdout",
     "output_type": "stream",
     "text": [
      "              precision    recall  f1-score   support\n",
      "\n",
      "           0       0.81      0.36      0.50       307\n",
      "           1       0.14      0.32      0.20        31\n",
      "           2       0.61      0.84      0.71       344\n",
      "\n",
      "    accuracy                           0.60       682\n",
      "   macro avg       0.52      0.51      0.47       682\n",
      "weighted avg       0.68      0.60      0.59       682\n",
      "\n"
     ]
    }
   ],
   "source": [
    "print(classification_report(y_test,y_pred_syn))"
   ]
  },
  {
   "cell_type": "markdown",
   "metadata": {},
   "source": [
    "### TomekLinks"
   ]
  },
  {
   "cell_type": "code",
   "execution_count": 60,
   "metadata": {},
   "outputs": [
    {
     "data": {
      "text/plain": [
       "SVC(random_state=0)"
      ]
     },
     "execution_count": 60,
     "metadata": {},
     "output_type": "execute_result"
    }
   ],
   "source": [
    "svm.fit(X_train_tme, y_train_tme)"
   ]
  },
  {
   "cell_type": "code",
   "execution_count": 61,
   "metadata": {},
   "outputs": [],
   "source": [
    "y_pred_tme = svm.predict(X_test)"
   ]
  },
  {
   "cell_type": "code",
   "execution_count": 62,
   "metadata": {},
   "outputs": [
    {
     "name": "stdout",
     "output_type": "stream",
     "text": [
      "\n",
      "    Recall = 0.6524926686217009,\n",
      "    F1_score = 0.6081980451769827\n",
      "    precision = 0.7390791577571976 \n",
      "    accuracy = 0.6524926686217009\n",
      "    \n"
     ]
    }
   ],
   "source": [
    "get_score(y_test, y_pred_tme)"
   ]
  },
  {
   "cell_type": "code",
   "execution_count": 63,
   "metadata": {},
   "outputs": [
    {
     "name": "stdout",
     "output_type": "stream",
     "text": [
      "[[110   6  11]\n",
      " [  0   2   0]\n",
      " [197  23 333]]\n"
     ]
    }
   ],
   "source": [
    "cm_tme_svm = confusion_matrix(y_pred_tme, y_test)\n",
    "print(cm_tme_svm)"
   ]
  },
  {
   "cell_type": "code",
   "execution_count": 64,
   "metadata": {},
   "outputs": [
    {
     "data": {
      "image/png": "[encoded data removed]",
      "text/plain": [
       "<Figure size 864x576 with 2 Axes>"
      ]
     },
     "metadata": {
      "needs_background": "light"
     },
     "output_type": "display_data"
    }
   ],
   "source": [
    "from sklearn.metrics import confusion_matrix, ConfusionMatrixDisplay\n",
    "disp = ConfusionMatrixDisplay(confusion_matrix=cm_tme_svm)#, display_labels=class_names)#cmap=plt.cm.Blues\n",
    "disp = disp.plot(cmap=plt.cm.Blues)#,values_format='g')\n",
    "plt.show()\n",
    "#plt.savefig('confusion_matrix_TomekLinks_SVM.png')"
   ]
  },
  {
   "cell_type": "code",
   "execution_count": 65,
   "metadata": {},
   "outputs": [
    {
     "name": "stdout",
     "output_type": "stream",
     "text": [
      "              precision    recall  f1-score   support\n",
      "\n",
      "           0       0.87      0.36      0.51       307\n",
      "           1       1.00      0.06      0.12        31\n",
      "           2       0.60      0.97      0.74       344\n",
      "\n",
      "    accuracy                           0.65       682\n",
      "   macro avg       0.82      0.46      0.46       682\n",
      "weighted avg       0.74      0.65      0.61       682\n",
      "\n"
     ]
    }
   ],
   "source": [
    "print(classification_report(y_test,y_pred_tme))"
   ]
  },
  {
   "cell_type": "markdown",
   "metadata": {},
   "source": [
    "# Random Forest "
   ]
  },
  {
   "cell_type": "code",
   "execution_count": 66,
   "metadata": {},
   "outputs": [],
   "source": [
    "rfc = RandomForestClassifier(\n",
    "    n_estimators=100,                    \n",
    "    class_weight=None,\n",
    "    min_samples_leaf=3,\n",
    ")"
   ]
  },
  {
   "cell_type": "markdown",
   "metadata": {},
   "source": [
    "### oversampling"
   ]
  },
  {
   "cell_type": "code",
   "execution_count": 67,
   "metadata": {},
   "outputs": [
    {
     "name": "stdout",
     "output_type": "stream",
     "text": [
      "\n",
      "    Recall = 0.8812316715542522,\n",
      "    F1_score = 0.8834822265523263\n",
      "    precision = 0.8863267726433266 \n",
      "    accuracy = 0.8812316715542522\n",
      "    \n",
      "[[269  10  24]\n",
      " [ 13  12   0]\n",
      " [ 25   9 320]]\n"
     ]
    }
   ],
   "source": [
    "rfc.fit(X_over, y_over)\n",
    "rfc.score(X_test, y_test)\n",
    "rfc_pred_over = rfc.predict(X_test)\n",
    "get_score(rfc_pred_over, y_test)\n",
    "cm_over_rf = confusion_matrix(rfc_pred_over, y_test)\n",
    "print(cm_over_rf)"
   ]
  },
  {
   "cell_type": "code",
   "execution_count": 68,
   "metadata": {},
   "outputs": [
    {
     "data": {
      "image/png": "[encoded data removed]",
      "text/plain": [
       "<Figure size 864x576 with 2 Axes>"
      ]
     },
     "metadata": {
      "needs_background": "light"
     },
     "output_type": "display_data"
    },
    {
     "name": "stdout",
     "output_type": "stream",
     "text": [
      "              precision    recall  f1-score   support\n",
      "\n",
      "           0       0.89      0.88      0.88       307\n",
      "           1       0.48      0.39      0.43        31\n",
      "           2       0.90      0.93      0.92       344\n",
      "\n",
      "    accuracy                           0.88       682\n",
      "   macro avg       0.76      0.73      0.74       682\n",
      "weighted avg       0.88      0.88      0.88       682\n",
      "\n"
     ]
    }
   ],
   "source": [
    "from sklearn.metrics import confusion_matrix, ConfusionMatrixDisplay\n",
    "disp = ConfusionMatrixDisplay(confusion_matrix=cm_over_rf )#, display_labels=class_names)#cmap=plt.cm.Blues\n",
    "disp = disp.plot(cmap=plt.cm.Blues)#,values_format='g')\n",
    "plt.show()\n",
    "#plt.savefig('confusion_matrix_smote_rf.png')\n",
    "\n",
    "print(classification_report(y_test,rfc_pred_over))"
   ]
  },
  {
   "cell_type": "code",
   "execution_count": 69,
   "metadata": {},
   "outputs": [],
   "source": [
    "### important feature"
   ]
  },
  {
   "cell_type": "code",
   "execution_count": 70,
   "metadata": {},
   "outputs": [
    {
     "data": {
      "text/plain": [
       "array([0.05094522, 0.05289527, 0.08261017, 0.10386563, 0.05101823,\n",
       "       0.0655738 , 0.09384967, 0.05529333, 0.01111585, 0.0244045 ,\n",
       "       0.01258897, 0.04162225, 0.05125368, 0.05483906, 0.10328833,\n",
       "       0.09385137, 0.05098468])"
      ]
     },
     "execution_count": 70,
     "metadata": {},
     "output_type": "execute_result"
    }
   ],
   "source": [
    "rfc.feature_importances_"
   ]
  },
  {
   "cell_type": "code",
   "execution_count": 71,
   "metadata": {},
   "outputs": [
    {
     "data": {
      "text/plain": [
       "Text(0.5, 0, 'Random Forest Feature Importance with Oversampling')"
      ]
     },
     "execution_count": 71,
     "metadata": {},
     "output_type": "execute_result"
    },
    {
     "data": {
      "image/png": "[encoded data removed]",
      "text/plain": [
       "<Figure size 864x576 with 1 Axes>"
      ]
     },
     "metadata": {
      "needs_background": "light"
     },
     "output_type": "display_data"
    }
   ],
   "source": [
    "sorted_idx = rfc.feature_importances_.argsort()\n",
    "plt.barh(df.columns[sorted_idx], rfc.feature_importances_[sorted_idx])\n",
    "plt.xlabel(\"Random Forest Feature Importance with Oversampling\")"
   ]
  },
  {
   "cell_type": "markdown",
   "metadata": {},
   "source": [
    "### undersampling"
   ]
  },
  {
   "cell_type": "code",
   "execution_count": 72,
   "metadata": {},
   "outputs": [
    {
     "name": "stdout",
     "output_type": "stream",
     "text": [
      "\n",
      "    Recall = 0.7551319648093842,\n",
      "    F1_score = 0.7138439544064047\n",
      "    precision = 0.7400941305612112 \n",
      "    accuracy = 0.7551319648093842\n",
      "    \n",
      "[[222   3  19]\n",
      " [ 58  20  52]\n",
      " [ 27   8 273]]\n"
     ]
    }
   ],
   "source": [
    "rfc.fit(X_under, y_under)\n",
    "rfc.score(X_test, y_test)\n",
    "rfc_pred_under = rfc.predict(X_test)\n",
    "get_score(rfc_pred_under, y_test)\n",
    "cm_under_rf = confusion_matrix(rfc_pred_under, y_test)\n",
    "print(cm_under_rf)"
   ]
  },
  {
   "cell_type": "code",
   "execution_count": 73,
   "metadata": {},
   "outputs": [
    {
     "data": {
      "image/png": "[encoded data removed]",
      "text/plain": [
       "<Figure size 864x576 with 2 Axes>"
      ]
     },
     "metadata": {
      "needs_background": "light"
     },
     "output_type": "display_data"
    },
    {
     "name": "stdout",
     "output_type": "stream",
     "text": [
      "              precision    recall  f1-score   support\n",
      "\n",
      "           0       0.91      0.72      0.81       307\n",
      "           1       0.15      0.65      0.25        31\n",
      "           2       0.89      0.79      0.84       344\n",
      "\n",
      "    accuracy                           0.76       682\n",
      "   macro avg       0.65      0.72      0.63       682\n",
      "weighted avg       0.86      0.76      0.80       682\n",
      "\n"
     ]
    }
   ],
   "source": [
    "disp = ConfusionMatrixDisplay(confusion_matrix=cm_under_rf )#, display_labels=class_names)#cmap=plt.cm.Blues\n",
    "disp = disp.plot(cmap=plt.cm.Blues)#,values_format='g')\n",
    "plt.show()\n",
    "#plt.savefig('confusion_matrix_smote_rf.png')\n",
    "\n",
    "print(classification_report(y_test,rfc_pred_under))"
   ]
  },
  {
   "cell_type": "code",
   "execution_count": 74,
   "metadata": {},
   "outputs": [],
   "source": [
    "### important feature"
   ]
  },
  {
   "cell_type": "code",
   "execution_count": 75,
   "metadata": {},
   "outputs": [
    {
     "data": {
      "text/plain": [
       "array([0.04858143, 0.04884332, 0.07484921, 0.09788962, 0.05592656,\n",
       "       0.06036328, 0.09657254, 0.05136757, 0.00945705, 0.021965  ,\n",
       "       0.00926389, 0.04189424, 0.06585779, 0.050203  , 0.10783525,\n",
       "       0.11168998, 0.04744028])"
      ]
     },
     "execution_count": 75,
     "metadata": {},
     "output_type": "execute_result"
    }
   ],
   "source": [
    "rfc.feature_importances_\n"
   ]
  },
  {
   "cell_type": "code",
   "execution_count": 76,
   "metadata": {},
   "outputs": [
    {
     "data": {
      "text/plain": [
       "Text(0.5, 0, 'Random Forest Feature Importance with Undersampling')"
      ]
     },
     "execution_count": 76,
     "metadata": {},
     "output_type": "execute_result"
    },
    {
     "data": {
      "image/png": "[encoded data removed]",
      "text/plain": [
       "<Figure size 864x576 with 1 Axes>"
      ]
     },
     "metadata": {
      "needs_background": "light"
     },
     "output_type": "display_data"
    }
   ],
   "source": [
    "orted_idx = rfc.feature_importances_.argsort()\n",
    "plt.barh(df.columns[sorted_idx], rfc.feature_importances_[sorted_idx])\n",
    "plt.xlabel(\"Random Forest Feature Importance with Undersampling\")"
   ]
  },
  {
   "cell_type": "markdown",
   "metadata": {},
   "source": [
    "### smote "
   ]
  },
  {
   "cell_type": "code",
   "execution_count": 77,
   "metadata": {},
   "outputs": [
    {
     "data": {
      "text/plain": [
       "RandomForestClassifier(min_samples_leaf=3)"
      ]
     },
     "execution_count": 77,
     "metadata": {},
     "output_type": "execute_result"
    }
   ],
   "source": [
    "rfc.fit(X_train_smote, y_train_smote)"
   ]
  },
  {
   "cell_type": "code",
   "execution_count": 78,
   "metadata": {},
   "outputs": [
    {
     "data": {
      "text/plain": [
       "0.8695014662756598"
      ]
     },
     "execution_count": 78,
     "metadata": {},
     "output_type": "execute_result"
    }
   ],
   "source": [
    "rfc.score(X_test, y_test)"
   ]
  },
  {
   "cell_type": "code",
   "execution_count": 79,
   "metadata": {},
   "outputs": [],
   "source": [
    "rfc_pred_smote = rfc.predict(X_test)"
   ]
  },
  {
   "cell_type": "code",
   "execution_count": 80,
   "metadata": {},
   "outputs": [
    {
     "name": "stdout",
     "output_type": "stream",
     "text": [
      "\n",
      "    Recall = 0.8695014662756598,\n",
      "    F1_score = 0.8640409733733672\n",
      "    precision = 0.8623757827704751 \n",
      "    accuracy = 0.8695014662756598\n",
      "    \n"
     ]
    }
   ],
   "source": [
    "get_score(rfc_pred_smote, y_test)"
   ]
  },
  {
   "cell_type": "code",
   "execution_count": 81,
   "metadata": {},
   "outputs": [
    {
     "name": "stdout",
     "output_type": "stream",
     "text": [
      "[[260   6  21]\n",
      " [ 24  17   7]\n",
      " [ 23   8 316]]\n"
     ]
    }
   ],
   "source": [
    "cm_smote_rf = confusion_matrix(rfc_pred_smote, y_test)\n",
    "print(cm_smote_rf)"
   ]
  },
  {
   "cell_type": "code",
   "execution_count": 82,
   "metadata": {},
   "outputs": [
    {
     "data": {
      "image/png": "[encoded data removed]",
      "text/plain": [
       "<Figure size 864x576 with 2 Axes>"
      ]
     },
     "metadata": {
      "needs_background": "light"
     },
     "output_type": "display_data"
    }
   ],
   "source": [
    "from sklearn.metrics import confusion_matrix, ConfusionMatrixDisplay\n",
    "disp = ConfusionMatrixDisplay(confusion_matrix=cm_smote_rf )#, display_labels=class_names)#cmap=plt.cm.Blues\n",
    "disp = disp.plot(cmap=plt.cm.Blues)#,values_format='g')\n",
    "plt.show()\n",
    "#plt.savefig('confusion_matrix_smote_rf.png')"
   ]
  },
  {
   "cell_type": "code",
   "execution_count": 83,
   "metadata": {},
   "outputs": [
    {
     "name": "stdout",
     "output_type": "stream",
     "text": [
      "              precision    recall  f1-score   support\n",
      "\n",
      "           0       0.91      0.85      0.88       307\n",
      "           1       0.35      0.55      0.43        31\n",
      "           2       0.91      0.92      0.91       344\n",
      "\n",
      "    accuracy                           0.87       682\n",
      "   macro avg       0.72      0.77      0.74       682\n",
      "weighted avg       0.88      0.87      0.87       682\n",
      "\n"
     ]
    }
   ],
   "source": [
    "print(classification_report(y_test,rfc_pred_smote))"
   ]
  },
  {
   "cell_type": "code",
   "execution_count": 84,
   "metadata": {},
   "outputs": [
    {
     "data": {
      "text/plain": [
       "array([0.05623406, 0.05292951, 0.07873316, 0.11157905, 0.05704883,\n",
       "       0.0538567 , 0.07757342, 0.04488884, 0.02491182, 0.03597993,\n",
       "       0.01420622, 0.04715504, 0.03806202, 0.07005754, 0.08619769,\n",
       "       0.0996884 , 0.05089777])"
      ]
     },
     "execution_count": 84,
     "metadata": {},
     "output_type": "execute_result"
    }
   ],
   "source": [
    "### important feature\n",
    "rfc.feature_importances_"
   ]
  },
  {
   "cell_type": "code",
   "execution_count": 85,
   "metadata": {},
   "outputs": [
    {
     "data": {
      "text/plain": [
       "Text(0.5, 0, 'Random Forest Feature Importance with SMOTE')"
      ]
     },
     "execution_count": 85,
     "metadata": {},
     "output_type": "execute_result"
    },
    {
     "data": {
      "image/png": "[encoded data removed]",
      "text/plain": [
       "<Figure size 864x576 with 1 Axes>"
      ]
     },
     "metadata": {
      "needs_background": "light"
     },
     "output_type": "display_data"
    }
   ],
   "source": [
    "sorted_idx = rfc.feature_importances_.argsort()\n",
    "plt.barh(df.columns[sorted_idx], rfc.feature_importances_[sorted_idx])\n",
    "plt.xlabel(\"Random Forest Feature Importance with SMOTE\")"
   ]
  },
  {
   "cell_type": "markdown",
   "metadata": {},
   "source": [
    "### STOMEENN"
   ]
  },
  {
   "cell_type": "code",
   "execution_count": 86,
   "metadata": {},
   "outputs": [
    {
     "data": {
      "text/plain": [
       "RandomForestClassifier(min_samples_leaf=3)"
      ]
     },
     "execution_count": 86,
     "metadata": {},
     "output_type": "execute_result"
    }
   ],
   "source": [
    "rfc.fit(X_train_sme, y_train_sme)"
   ]
  },
  {
   "cell_type": "code",
   "execution_count": 87,
   "metadata": {},
   "outputs": [
    {
     "data": {
      "text/plain": [
       "0.8137829912023461"
      ]
     },
     "execution_count": 87,
     "metadata": {},
     "output_type": "execute_result"
    }
   ],
   "source": [
    "rfc.score(X_test, y_test)"
   ]
  },
  {
   "cell_type": "code",
   "execution_count": 88,
   "metadata": {},
   "outputs": [],
   "source": [
    "rfc_pred_sme = rfc.predict(X_test)"
   ]
  },
  {
   "cell_type": "code",
   "execution_count": 89,
   "metadata": {},
   "outputs": [
    {
     "name": "stdout",
     "output_type": "stream",
     "text": [
      "\n",
      "    Recall = 0.8137829912023461,\n",
      "    F1_score = 0.7837475718972801\n",
      "    precision = 0.7984943118511008 \n",
      "    accuracy = 0.8137829912023461\n",
      "    \n"
     ]
    }
   ],
   "source": [
    "get_score(rfc_pred_sme, y_test)"
   ]
  },
  {
   "cell_type": "code",
   "execution_count": 90,
   "metadata": {},
   "outputs": [
    {
     "name": "stdout",
     "output_type": "stream",
     "text": [
      "[[236   4   8]\n",
      " [ 47  20  37]\n",
      " [ 24   7 299]]\n"
     ]
    }
   ],
   "source": [
    "cm_sme_rf = confusion_matrix(rfc_pred_sme, y_test)\n",
    "print(cm_sme_rf)"
   ]
  },
  {
   "cell_type": "code",
   "execution_count": 91,
   "metadata": {},
   "outputs": [
    {
     "data": {
      "image/png": "[encoded data removed]",
      "text/plain": [
       "<Figure size 864x576 with 2 Axes>"
      ]
     },
     "metadata": {
      "needs_background": "light"
     },
     "output_type": "display_data"
    }
   ],
   "source": [
    "from sklearn.metrics import confusion_matrix, ConfusionMatrixDisplay\n",
    "disp = ConfusionMatrixDisplay(confusion_matrix=cm_sme_rf )#, display_labels=class_names)#cmap=plt.cm.Blues\n",
    "disp = disp.plot(cmap=plt.cm.Blues)#,values_format='g')\n",
    "plt.show()\n",
    "#plt.savefig('confusion_matrix_smoteenn_rf.png')"
   ]
  },
  {
   "cell_type": "code",
   "execution_count": 92,
   "metadata": {},
   "outputs": [
    {
     "name": "stdout",
     "output_type": "stream",
     "text": [
      "              precision    recall  f1-score   support\n",
      "\n",
      "           0       0.95      0.77      0.85       307\n",
      "           1       0.19      0.65      0.30        31\n",
      "           2       0.91      0.87      0.89       344\n",
      "\n",
      "    accuracy                           0.81       682\n",
      "   macro avg       0.68      0.76      0.68       682\n",
      "weighted avg       0.89      0.81      0.84       682\n",
      "\n"
     ]
    }
   ],
   "source": [
    "print(classification_report(y_test,rfc_pred_sme))"
   ]
  },
  {
   "cell_type": "code",
   "execution_count": 93,
   "metadata": {},
   "outputs": [
    {
     "data": {
      "text/plain": [
       "array([0.05986719, 0.04713516, 0.11909893, 0.08972398, 0.06042194,\n",
       "       0.07844761, 0.08863716, 0.04797914, 0.020292  , 0.03696689,\n",
       "       0.01140007, 0.04974443, 0.04582254, 0.06225864, 0.07068528,\n",
       "       0.0670681 , 0.04445092])"
      ]
     },
     "execution_count": 93,
     "metadata": {},
     "output_type": "execute_result"
    }
   ],
   "source": [
    "### important feature\n",
    "rfc.feature_importances_"
   ]
  },
  {
   "cell_type": "code",
   "execution_count": 94,
   "metadata": {},
   "outputs": [
    {
     "data": {
      "text/plain": [
       "Text(0.5, 0, 'Random Forest Feature Importance with SMOTEENN')"
      ]
     },
     "execution_count": 94,
     "metadata": {},
     "output_type": "execute_result"
    },
    {
     "data": {
      "image/png": "[encoded data removed]",
      "text/plain": [
       "<Figure size 864x576 with 1 Axes>"
      ]
     },
     "metadata": {
      "needs_background": "light"
     },
     "output_type": "display_data"
    }
   ],
   "source": [
    "sorted_idx = rfc.feature_importances_.argsort()\n",
    "plt.barh(df.columns[sorted_idx], rfc.feature_importances_[sorted_idx])\n",
    "plt.xlabel(\"Random Forest Feature Importance with SMOTEENN\")"
   ]
  },
  {
   "cell_type": "markdown",
   "metadata": {},
   "source": [
    "### ADASYN"
   ]
  },
  {
   "cell_type": "code",
   "execution_count": 95,
   "metadata": {},
   "outputs": [
    {
     "data": {
      "text/plain": [
       "RandomForestClassifier(min_samples_leaf=3)"
      ]
     },
     "execution_count": 95,
     "metadata": {},
     "output_type": "execute_result"
    }
   ],
   "source": [
    "rfc.fit(X_train_syn, y_train_syn)"
   ]
  },
  {
   "cell_type": "code",
   "execution_count": 96,
   "metadata": {},
   "outputs": [
    {
     "data": {
      "text/plain": [
       "0.8577712609970675"
      ]
     },
     "execution_count": 96,
     "metadata": {},
     "output_type": "execute_result"
    }
   ],
   "source": [
    "rfc.score(X_test, y_test)"
   ]
  },
  {
   "cell_type": "code",
   "execution_count": 97,
   "metadata": {},
   "outputs": [],
   "source": [
    "rfc_pred_syn = rfc.predict(X_test)"
   ]
  },
  {
   "cell_type": "code",
   "execution_count": 98,
   "metadata": {},
   "outputs": [
    {
     "name": "stdout",
     "output_type": "stream",
     "text": [
      "\n",
      "    Recall = 0.8577712609970675,\n",
      "    F1_score = 0.8502548598949072\n",
      "    precision = 0.8475176952127741 \n",
      "    accuracy = 0.8577712609970675\n",
      "    \n"
     ]
    }
   ],
   "source": [
    "get_score(rfc_pred_syn, y_test)"
   ]
  },
  {
   "cell_type": "code",
   "execution_count": 99,
   "metadata": {},
   "outputs": [
    {
     "name": "stdout",
     "output_type": "stream",
     "text": [
      "[[259   5  24]\n",
      " [ 26  16  10]\n",
      " [ 22  10 310]]\n"
     ]
    },
    {
     "data": {
      "image/png": "[encoded data removed]",
      "text/plain": [
       "<Figure size 864x576 with 2 Axes>"
      ]
     },
     "metadata": {
      "needs_background": "light"
     },
     "output_type": "display_data"
    }
   ],
   "source": [
    "cm_syn_rf = confusion_matrix(rfc_pred_syn, y_test)\n",
    "print(cm_syn_rf)\n",
    "from sklearn.metrics import confusion_matrix, ConfusionMatrixDisplay\n",
    "disp = ConfusionMatrixDisplay(confusion_matrix=cm_sme_rf )#, display_labels=class_names)#cmap=plt.cm.Blues\n",
    "disp = disp.plot(cmap=plt.cm.Blues)#,values_format='g')\n",
    "plt.show()\n",
    "#plt.savefig('confusion_matrix_adasyn_rf.png')"
   ]
  },
  {
   "cell_type": "code",
   "execution_count": 100,
   "metadata": {},
   "outputs": [
    {
     "name": "stdout",
     "output_type": "stream",
     "text": [
      "              precision    recall  f1-score   support\n",
      "\n",
      "           0       0.90      0.84      0.87       307\n",
      "           1       0.31      0.52      0.39        31\n",
      "           2       0.91      0.90      0.90       344\n",
      "\n",
      "    accuracy                           0.86       682\n",
      "   macro avg       0.70      0.75      0.72       682\n",
      "weighted avg       0.88      0.86      0.87       682\n",
      "\n"
     ]
    }
   ],
   "source": [
    "print(classification_report(y_test,rfc_pred_syn))"
   ]
  },
  {
   "cell_type": "code",
   "execution_count": 101,
   "metadata": {},
   "outputs": [
    {
     "data": {
      "text/plain": [
       "array([0.0597832 , 0.05584749, 0.06640541, 0.11470526, 0.04970311,\n",
       "       0.05206672, 0.07886481, 0.05002618, 0.023193  , 0.04206115,\n",
       "       0.01890724, 0.04637136, 0.04937216, 0.04069647, 0.09345332,\n",
       "       0.09894023, 0.05960288])"
      ]
     },
     "execution_count": 101,
     "metadata": {},
     "output_type": "execute_result"
    }
   ],
   "source": [
    "### important feature\n",
    "rfc.feature_importances_"
   ]
  },
  {
   "cell_type": "code",
   "execution_count": 102,
   "metadata": {},
   "outputs": [
    {
     "data": {
      "text/plain": [
       "Text(0.5, 0, 'Random Forest Feature Importance with ADASYN')"
      ]
     },
     "execution_count": 102,
     "metadata": {},
     "output_type": "execute_result"
    },
    {
     "data": {
      "image/png": "[encoded data removed]",
      "text/plain": [
       "<Figure size 864x576 with 1 Axes>"
      ]
     },
     "metadata": {
      "needs_background": "light"
     },
     "output_type": "display_data"
    }
   ],
   "source": [
    "sorted_idx = rfc.feature_importances_.argsort()\n",
    "plt.barh(df.columns[sorted_idx], rfc.feature_importances_[sorted_idx])\n",
    "plt.xlabel(\"Random Forest Feature Importance with ADASYN\")"
   ]
  },
  {
   "cell_type": "markdown",
   "metadata": {},
   "source": [
    "### TomekLinks"
   ]
  },
  {
   "cell_type": "code",
   "execution_count": 103,
   "metadata": {},
   "outputs": [
    {
     "data": {
      "text/plain": [
       "RandomForestClassifier(min_samples_leaf=3)"
      ]
     },
     "execution_count": 103,
     "metadata": {},
     "output_type": "execute_result"
    }
   ],
   "source": [
    "rfc.fit(X_train_tme, y_train_tme)"
   ]
  },
  {
   "cell_type": "code",
   "execution_count": 104,
   "metadata": {},
   "outputs": [
    {
     "data": {
      "text/plain": [
       "0.8841642228739003"
      ]
     },
     "execution_count": 104,
     "metadata": {},
     "output_type": "execute_result"
    }
   ],
   "source": [
    "rfc.score(X_test, y_test)"
   ]
  },
  {
   "cell_type": "code",
   "execution_count": 105,
   "metadata": {},
   "outputs": [],
   "source": [
    "rfc_pred_tme = rfc.predict(X_test)"
   ]
  },
  {
   "cell_type": "code",
   "execution_count": 106,
   "metadata": {},
   "outputs": [
    {
     "name": "stdout",
     "output_type": "stream",
     "text": [
      "\n",
      "    Recall = 0.8841642228739003,\n",
      "    F1_score = 0.8939522867329761\n",
      "    precision = 0.912401674979101 \n",
      "    accuracy = 0.8841642228739003\n",
      "    \n"
     ]
    }
   ],
   "source": [
    "get_score(rfc_pred_tme, y_test)"
   ]
  },
  {
   "cell_type": "code",
   "execution_count": 107,
   "metadata": {},
   "outputs": [
    {
     "name": "stdout",
     "output_type": "stream",
     "text": [
      "[[265  13  13]\n",
      " [  0   7   0]\n",
      " [ 42  11 331]]\n"
     ]
    },
    {
     "data": {
      "image/png": "[encoded data removed]",
      "text/plain": [
       "<Figure size 864x576 with 2 Axes>"
      ]
     },
     "metadata": {
      "needs_background": "light"
     },
     "output_type": "display_data"
    }
   ],
   "source": [
    "cm_tme_rf = confusion_matrix(rfc_pred_tme, y_test)\n",
    "print(cm_tme_rf)\n",
    "from sklearn.metrics import confusion_matrix, ConfusionMatrixDisplay\n",
    "disp = ConfusionMatrixDisplay(confusion_matrix=cm_tme_rf )#, display_labels=class_names)#cmap=plt.cm.Blues\n",
    "disp = disp.plot(cmap=plt.cm.Blues)#,values_format='g')\n",
    "plt.show()\n",
    "#plt.savefig('confusion_matrix_tomeklinks_rf.png')"
   ]
  },
  {
   "cell_type": "code",
   "execution_count": 108,
   "metadata": {},
   "outputs": [
    {
     "name": "stdout",
     "output_type": "stream",
     "text": [
      "              precision    recall  f1-score   support\n",
      "\n",
      "           0       0.91      0.86      0.89       307\n",
      "           1       1.00      0.23      0.37        31\n",
      "           2       0.86      0.96      0.91       344\n",
      "\n",
      "    accuracy                           0.88       682\n",
      "   macro avg       0.92      0.68      0.72       682\n",
      "weighted avg       0.89      0.88      0.87       682\n",
      "\n"
     ]
    }
   ],
   "source": [
    "print(classification_report(y_test,rfc_pred_tme))"
   ]
  },
  {
   "cell_type": "code",
   "execution_count": 109,
   "metadata": {},
   "outputs": [
    {
     "data": {
      "text/plain": [
       "array([0.03262819, 0.029561  , 0.06810218, 0.1797882 , 0.03676762,\n",
       "       0.05660182, 0.0544583 , 0.02657787, 0.00713668, 0.01471981,\n",
       "       0.00552966, 0.03754217, 0.09228409, 0.08106054, 0.12567919,\n",
       "       0.1159722 , 0.03559047])"
      ]
     },
     "execution_count": 109,
     "metadata": {},
     "output_type": "execute_result"
    }
   ],
   "source": [
    "### important feature\n",
    "rfc.feature_importances_\n"
   ]
  },
  {
   "cell_type": "code",
   "execution_count": 110,
   "metadata": {},
   "outputs": [
    {
     "data": {
      "text/plain": [
       "Text(0.5, 0, 'Random Forest Feature Importance with TomekLinks')"
      ]
     },
     "execution_count": 110,
     "metadata": {},
     "output_type": "execute_result"
    },
    {
     "data": {
      "image/png": "[encoded data removed]",
      "text/plain": [
       "<Figure size 864x576 with 1 Axes>"
      ]
     },
     "metadata": {
      "needs_background": "light"
     },
     "output_type": "display_data"
    }
   ],
   "source": [
    "sorted_idx = rfc.feature_importances_.argsort()\n",
    "plt.barh(df.columns[sorted_idx], rfc.feature_importances_[sorted_idx])\n",
    "plt.xlabel(\"Random Forest Feature Importance with TomekLinks\")"
   ]
  },
  {
   "cell_type": "markdown",
   "metadata": {},
   "source": [
    "# Ridge Regression  "
   ]
  },
  {
   "cell_type": "code",
   "execution_count": 111,
   "metadata": {},
   "outputs": [],
   "source": [
    "from sklearn.linear_model import RidgeClassifier\n",
    "from sklearn.preprocessing import PolynomialFeatures"
   ]
  },
  {
   "cell_type": "code",
   "execution_count": 112,
   "metadata": {},
   "outputs": [],
   "source": [
    "poly = PolynomialFeatures(degree=2)"
   ]
  },
  {
   "cell_type": "code",
   "execution_count": 113,
   "metadata": {},
   "outputs": [],
   "source": [
    "ridge = RidgeClassifier()"
   ]
  },
  {
   "cell_type": "markdown",
   "metadata": {},
   "source": [
    "### oversampling "
   ]
  },
  {
   "cell_type": "code",
   "execution_count": 114,
   "metadata": {},
   "outputs": [
    {
     "name": "stdout",
     "output_type": "stream",
     "text": [
      "\n",
      "    Recall = 0.6011730205278593,\n",
      "    F1_score = 0.6077944833658937\n",
      "    precision = 0.6642298513496142 \n",
      "    accuracy = 0.6011730205278593\n",
      "    \n"
     ]
    }
   ],
   "source": [
    "poly.fit(X_over)\n",
    "X_train_over_poly = poly.transform(X_over)\n",
    "X_test_over_poly = poly.transform(X_test)\n",
    "ridge.fit(X_train_over_poly, y_over)\n",
    "poly_pred_over = ridge.predict(X_test_over_poly)\n",
    "get_score(poly_pred_over, y_test)"
   ]
  },
  {
   "cell_type": "code",
   "execution_count": 115,
   "metadata": {},
   "outputs": [
    {
     "name": "stdout",
     "output_type": "stream",
     "text": [
      "[[123   7  34]\n",
      " [ 18  12  35]\n",
      " [166  12 275]]\n"
     ]
    },
    {
     "data": {
      "image/png": "[encoded data removed]",
      "text/plain": [
       "<Figure size 864x576 with 2 Axes>"
      ]
     },
     "metadata": {
      "needs_background": "light"
     },
     "output_type": "display_data"
    },
    {
     "name": "stdout",
     "output_type": "stream",
     "text": [
      "              precision    recall  f1-score   support\n",
      "\n",
      "           0       0.40      0.75      0.52       164\n",
      "           1       0.39      0.18      0.25        65\n",
      "           2       0.80      0.61      0.69       453\n",
      "\n",
      "    accuracy                           0.60       682\n",
      "   macro avg       0.53      0.51      0.49       682\n",
      "weighted avg       0.66      0.60      0.61       682\n",
      "\n"
     ]
    }
   ],
   "source": [
    "cm_over_ridge = confusion_matrix(poly_pred_over, y_test)\n",
    "print(cm_over_ridge)\n",
    "\n",
    "## plot\n",
    "disp = ConfusionMatrixDisplay(confusion_matrix=cm_over_ridge)#, display_labels=class_names)#cmap=plt.cm.Blues\n",
    "disp = disp.plot(cmap=plt.cm.Blues)#,values_format='g')\n",
    "plt.show()\n",
    "#plt.savefig('confusion_matrix_ridge_smote.png')\n",
    "\n",
    "## Report\n",
    "print(classification_report(poly_pred_over,y_test))"
   ]
  },
  {
   "cell_type": "code",
   "execution_count": 116,
   "metadata": {},
   "outputs": [],
   "source": [
    "### undersampling"
   ]
  },
  {
   "cell_type": "code",
   "execution_count": 117,
   "metadata": {},
   "outputs": [
    {
     "name": "stdout",
     "output_type": "stream",
     "text": [
      "\n",
      "    Recall = 0.5865102639296188,\n",
      "    F1_score = 0.5951037098926435\n",
      "    precision = 0.6553891498560733 \n",
      "    accuracy = 0.5865102639296188\n",
      "    \n",
      "[[116   7  36]\n",
      " [ 18  12  36]\n",
      " [173  12 272]]\n"
     ]
    }
   ],
   "source": [
    "poly.fit(X_under)\n",
    "X_train_under_poly = poly.transform(X_under)\n",
    "X_test_under_poly = poly.transform(X_test)\n",
    "ridge.fit(X_train_under_poly, y_under)\n",
    "poly_pred_under = ridge.predict(X_test_under_poly)\n",
    "get_score(poly_pred_under, y_test)\n",
    "\n",
    "cm_under_ridge = confusion_matrix(poly_pred_under, y_test)\n",
    "print(cm_under_ridge)"
   ]
  },
  {
   "cell_type": "code",
   "execution_count": 118,
   "metadata": {},
   "outputs": [
    {
     "data": {
      "image/png": "[encoded data removed]",
      "text/plain": [
       "<Figure size 864x576 with 2 Axes>"
      ]
     },
     "metadata": {
      "needs_background": "light"
     },
     "output_type": "display_data"
    },
    {
     "name": "stdout",
     "output_type": "stream",
     "text": [
      "              precision    recall  f1-score   support\n",
      "\n",
      "           0       0.38      0.73      0.50       159\n",
      "           1       0.39      0.18      0.25        66\n",
      "           2       0.79      0.60      0.68       457\n",
      "\n",
      "    accuracy                           0.59       682\n",
      "   macro avg       0.52      0.50      0.47       682\n",
      "weighted avg       0.66      0.59      0.60       682\n",
      "\n"
     ]
    }
   ],
   "source": [
    "## plot\n",
    "disp = ConfusionMatrixDisplay(confusion_matrix=cm_under_ridge)#, display_labels=class_names)#cmap=plt.cm.Blues\n",
    "disp = disp.plot(cmap=plt.cm.Blues)#,values_format='g')\n",
    "plt.show()\n",
    "#plt.savefig('confusion_matrix_ridge_smote.png')\n",
    "\n",
    "## Repport \n",
    "print(classification_report(poly_pred_under,y_test))"
   ]
  },
  {
   "cell_type": "markdown",
   "metadata": {},
   "source": [
    "### smote "
   ]
  },
  {
   "cell_type": "code",
   "execution_count": 119,
   "metadata": {},
   "outputs": [
    {
     "data": {
      "text/plain": [
       "PolynomialFeatures()"
      ]
     },
     "execution_count": 119,
     "metadata": {},
     "output_type": "execute_result"
    }
   ],
   "source": [
    "poly.fit(X_train_smote)"
   ]
  },
  {
   "cell_type": "code",
   "execution_count": 120,
   "metadata": {},
   "outputs": [],
   "source": [
    "X_train_smote_poly = poly.transform(X_train_smote)\n",
    "X_test_smote_poly = poly.transform(X_test)"
   ]
  },
  {
   "cell_type": "code",
   "execution_count": 121,
   "metadata": {},
   "outputs": [
    {
     "data": {
      "text/plain": [
       "RidgeClassifier()"
      ]
     },
     "execution_count": 121,
     "metadata": {},
     "output_type": "execute_result"
    }
   ],
   "source": [
    "ridge.fit(X_train_smote_poly, y_train_smote)"
   ]
  },
  {
   "cell_type": "code",
   "execution_count": 122,
   "metadata": {},
   "outputs": [],
   "source": [
    "poly_pred_smote = ridge.predict(X_test_smote_poly)"
   ]
  },
  {
   "cell_type": "code",
   "execution_count": 123,
   "metadata": {},
   "outputs": [
    {
     "name": "stdout",
     "output_type": "stream",
     "text": [
      "\n",
      "    Recall = 0.5967741935483871,\n",
      "    F1_score = 0.5996993760625657\n",
      "    precision = 0.655924554323408 \n",
      "    accuracy = 0.5967741935483871\n",
      "    \n"
     ]
    }
   ],
   "source": [
    "get_score(poly_pred_smote, y_test)"
   ]
  },
  {
   "cell_type": "code",
   "execution_count": 124,
   "metadata": {},
   "outputs": [
    {
     "name": "stdout",
     "output_type": "stream",
     "text": [
      "[[122   6  33]\n",
      " [ 25  13  39]\n",
      " [160  12 272]]\n"
     ]
    },
    {
     "data": {
      "image/png": "[encoded data removed]",
      "text/plain": [
       "<Figure size 864x576 with 2 Axes>"
      ]
     },
     "metadata": {
      "needs_background": "light"
     },
     "output_type": "display_data"
    }
   ],
   "source": [
    "cm_smote_ridge = confusion_matrix(poly_pred_smote, y_test)\n",
    "print(cm_smote_ridge)\n",
    "from sklearn.metrics import confusion_matrix, ConfusionMatrixDisplay\n",
    "disp = ConfusionMatrixDisplay(confusion_matrix=cm_smote_ridge)#, display_labels=class_names)#cmap=plt.cm.Blues\n",
    "disp = disp.plot(cmap=plt.cm.Blues)#,values_format='g')\n",
    "plt.show()\n",
    "#plt.savefig('confusion_matrix_ridge_smote.png')"
   ]
  },
  {
   "cell_type": "code",
   "execution_count": 125,
   "metadata": {},
   "outputs": [
    {
     "name": "stdout",
     "output_type": "stream",
     "text": [
      "              precision    recall  f1-score   support\n",
      "\n",
      "           0       0.40      0.76      0.52       161\n",
      "           1       0.42      0.17      0.24        77\n",
      "           2       0.79      0.61      0.69       444\n",
      "\n",
      "    accuracy                           0.60       682\n",
      "   macro avg       0.54      0.51      0.48       682\n",
      "weighted avg       0.66      0.60      0.60       682\n",
      "\n"
     ]
    }
   ],
   "source": [
    "print(classification_report(poly_pred_smote,y_test))"
   ]
  },
  {
   "cell_type": "markdown",
   "metadata": {},
   "source": [
    "### STOMEENN"
   ]
  },
  {
   "cell_type": "code",
   "execution_count": 126,
   "metadata": {},
   "outputs": [
    {
     "data": {
      "text/plain": [
       "PolynomialFeatures()"
      ]
     },
     "execution_count": 126,
     "metadata": {},
     "output_type": "execute_result"
    }
   ],
   "source": [
    "poly.fit(X_train_sme)"
   ]
  },
  {
   "cell_type": "code",
   "execution_count": 127,
   "metadata": {},
   "outputs": [],
   "source": [
    "X_train_sme_poly = poly.transform(X_train_sme)\n",
    "X_test_sme_poly = poly.transform(X_test)"
   ]
  },
  {
   "cell_type": "code",
   "execution_count": 128,
   "metadata": {},
   "outputs": [
    {
     "data": {
      "text/plain": [
       "RidgeClassifier()"
      ]
     },
     "execution_count": 128,
     "metadata": {},
     "output_type": "execute_result"
    }
   ],
   "source": [
    "ridge.fit(X_train_sme_poly, y_train_sme)"
   ]
  },
  {
   "cell_type": "code",
   "execution_count": 129,
   "metadata": {},
   "outputs": [],
   "source": [
    "poly_pred_sme = ridge.predict(X_test_sme_poly)\n"
   ]
  },
  {
   "cell_type": "code",
   "execution_count": 130,
   "metadata": {},
   "outputs": [
    {
     "name": "stdout",
     "output_type": "stream",
     "text": [
      "\n",
      "    Recall = 0.5073313782991202,\n",
      "    F1_score = 0.48914894661749214\n",
      "    precision = 0.6419313999648193 \n",
      "    accuracy = 0.5073313782991202\n",
      "    \n"
     ]
    }
   ],
   "source": [
    "get_score(poly_pred_sme, y_test)"
   ]
  },
  {
   "cell_type": "code",
   "execution_count": 131,
   "metadata": {},
   "outputs": [
    {
     "name": "stdout",
     "output_type": "stream",
     "text": [
      "[[ 78   3  13]\n",
      " [ 99  21  84]\n",
      " [130   7 247]]\n"
     ]
    },
    {
     "data": {
      "image/png": "[encoded data removed]",
      "text/plain": [
       "<Figure size 864x576 with 2 Axes>"
      ]
     },
     "metadata": {
      "needs_background": "light"
     },
     "output_type": "display_data"
    }
   ],
   "source": [
    "cm_sme_ridge = confusion_matrix(poly_pred_sme, y_test)\n",
    "print(cm_sme_ridge)\n",
    "from sklearn.metrics import confusion_matrix, ConfusionMatrixDisplay\n",
    "disp = ConfusionMatrixDisplay(confusion_matrix=cm_sme_ridge)#, display_labels=class_names)#cmap=plt.cm.Blues\n",
    "disp = disp.plot(cmap=plt.cm.Blues)#,values_format='g')\n",
    "plt.show()\n",
    "#plt.savefig('confusion_matrix_ridge_smoteenn.png')"
   ]
  },
  {
   "cell_type": "code",
   "execution_count": 132,
   "metadata": {},
   "outputs": [
    {
     "name": "stdout",
     "output_type": "stream",
     "text": [
      "              precision    recall  f1-score   support\n",
      "\n",
      "           0       0.25      0.83      0.39        94\n",
      "           1       0.68      0.10      0.18       204\n",
      "           2       0.72      0.64      0.68       384\n",
      "\n",
      "    accuracy                           0.51       682\n",
      "   macro avg       0.55      0.53      0.42       682\n",
      "weighted avg       0.64      0.51      0.49       682\n",
      "\n"
     ]
    }
   ],
   "source": [
    "print(classification_report(poly_pred_sme,y_test))"
   ]
  },
  {
   "cell_type": "markdown",
   "metadata": {},
   "source": [
    "### ADASYN"
   ]
  },
  {
   "cell_type": "code",
   "execution_count": 133,
   "metadata": {},
   "outputs": [
    {
     "data": {
      "text/plain": [
       "PolynomialFeatures()"
      ]
     },
     "execution_count": 133,
     "metadata": {},
     "output_type": "execute_result"
    }
   ],
   "source": [
    "poly.fit(X_train_syn)"
   ]
  },
  {
   "cell_type": "code",
   "execution_count": 134,
   "metadata": {},
   "outputs": [],
   "source": [
    "X_train_syn_poly = poly.transform(X_train_syn)\n",
    "X_test_syn_poly = poly.transform(X_test)"
   ]
  },
  {
   "cell_type": "code",
   "execution_count": 135,
   "metadata": {},
   "outputs": [
    {
     "data": {
      "text/plain": [
       "RidgeClassifier()"
      ]
     },
     "execution_count": 135,
     "metadata": {},
     "output_type": "execute_result"
    }
   ],
   "source": [
    "ridge.fit(X_train_syn_poly, y_train_syn)"
   ]
  },
  {
   "cell_type": "code",
   "execution_count": 136,
   "metadata": {},
   "outputs": [],
   "source": [
    "poly_pred_syn = ridge.predict(X_test_syn_poly)"
   ]
  },
  {
   "cell_type": "code",
   "execution_count": 137,
   "metadata": {},
   "outputs": [
    {
     "name": "stdout",
     "output_type": "stream",
     "text": [
      "\n",
      "    Recall = 0.5689149560117303,\n",
      "    F1_score = 0.5713201008463109\n",
      "    precision = 0.6663344303794003 \n",
      "    accuracy = 0.5689149560117303\n",
      "    \n"
     ]
    }
   ],
   "source": [
    "get_score(poly_pred_syn, y_test)"
   ]
  },
  {
   "cell_type": "code",
   "execution_count": 138,
   "metadata": {},
   "outputs": [
    {
     "name": "stdout",
     "output_type": "stream",
     "text": [
      "[[101   3  24]\n",
      " [ 45  19  52]\n",
      " [161   9 268]]\n"
     ]
    },
    {
     "data": {
      "image/png": "[encoded data removed]",
      "text/plain": [
       "<Figure size 864x576 with 2 Axes>"
      ]
     },
     "metadata": {
      "needs_background": "light"
     },
     "output_type": "display_data"
    }
   ],
   "source": [
    "cm_syn_ridge = confusion_matrix(poly_pred_syn, y_test)\n",
    "print(cm_syn_ridge)\n",
    "from sklearn.metrics import confusion_matrix, ConfusionMatrixDisplay\n",
    "disp = ConfusionMatrixDisplay(confusion_matrix=cm_syn_ridge)#, display_labels=class_names)#cmap=plt.cm.Blues\n",
    "disp = disp.plot(cmap=plt.cm.Blues)#,values_format='g')\n",
    "plt.show()\n",
    "#plt.savefig('confusion_matrix_ridge_adasyn.png')"
   ]
  },
  {
   "cell_type": "code",
   "execution_count": 139,
   "metadata": {},
   "outputs": [
    {
     "name": "stdout",
     "output_type": "stream",
     "text": [
      "              precision    recall  f1-score   support\n",
      "\n",
      "           0       0.33      0.79      0.46       128\n",
      "           1       0.61      0.16      0.26       116\n",
      "           2       0.78      0.61      0.69       438\n",
      "\n",
      "    accuracy                           0.57       682\n",
      "   macro avg       0.57      0.52      0.47       682\n",
      "weighted avg       0.67      0.57      0.57       682\n",
      "\n"
     ]
    }
   ],
   "source": [
    "print(classification_report(poly_pred_syn,y_test))"
   ]
  },
  {
   "cell_type": "markdown",
   "metadata": {},
   "source": [
    "### TomekLinks"
   ]
  },
  {
   "cell_type": "code",
   "execution_count": 140,
   "metadata": {},
   "outputs": [
    {
     "data": {
      "text/plain": [
       "PolynomialFeatures()"
      ]
     },
     "execution_count": 140,
     "metadata": {},
     "output_type": "execute_result"
    }
   ],
   "source": [
    "poly.fit(X_train_tme)"
   ]
  },
  {
   "cell_type": "code",
   "execution_count": 141,
   "metadata": {},
   "outputs": [],
   "source": [
    "X_train_tme_poly = poly.transform(X_train_tme)\n",
    "X_test_tme_poly = poly.transform(X_test)"
   ]
  },
  {
   "cell_type": "code",
   "execution_count": 142,
   "metadata": {},
   "outputs": [
    {
     "data": {
      "text/plain": [
       "RidgeClassifier()"
      ]
     },
     "execution_count": 142,
     "metadata": {},
     "output_type": "execute_result"
    }
   ],
   "source": [
    "ridge.fit(X_train_tme_poly, y_train_tme)"
   ]
  },
  {
   "cell_type": "code",
   "execution_count": 143,
   "metadata": {},
   "outputs": [],
   "source": [
    "poly_pred_tme = ridge.predict(X_test_tme_poly)"
   ]
  },
  {
   "cell_type": "code",
   "execution_count": 144,
   "metadata": {},
   "outputs": [
    {
     "name": "stdout",
     "output_type": "stream",
     "text": [
      "\n",
      "    Recall = 0.6495601173020528,\n",
      "    F1_score = 0.6875810569721444\n",
      "    precision = 0.8205881518523145 \n",
      "    accuracy = 0.6495601173020528\n",
      "    \n"
     ]
    }
   ],
   "source": [
    "get_score(poly_pred_tme, y_test)"
   ]
  },
  {
   "cell_type": "code",
   "execution_count": 145,
   "metadata": {},
   "outputs": [
    {
     "name": "stdout",
     "output_type": "stream",
     "text": [
      "[[114   9  19]\n",
      " [  0   4   0]\n",
      " [193  18 325]]\n"
     ]
    },
    {
     "data": {
      "image/png": "[encoded data removed]",
      "text/plain": [
       "<Figure size 864x576 with 2 Axes>"
      ]
     },
     "metadata": {
      "needs_background": "light"
     },
     "output_type": "display_data"
    }
   ],
   "source": [
    "cm_tme_ridge = confusion_matrix(poly_pred_tme, y_test)\n",
    "print(cm_tme_ridge)\n",
    "from sklearn.metrics import confusion_matrix, ConfusionMatrixDisplay\n",
    "disp = ConfusionMatrixDisplay(confusion_matrix=cm_tme_ridge)#, display_labels=class_names)#cmap=plt.cm.Blues\n",
    "disp = disp.plot(cmap=plt.cm.Blues)#,values_format='g')\n",
    "plt.show()\n",
    "#plt.savefig('confusion_matrix_ridge_tomeklinks.png')"
   ]
  },
  {
   "cell_type": "code",
   "execution_count": 146,
   "metadata": {},
   "outputs": [
    {
     "name": "stdout",
     "output_type": "stream",
     "text": [
      "              precision    recall  f1-score   support\n",
      "\n",
      "           0       0.37      0.80      0.51       142\n",
      "           1       0.13      1.00      0.23         4\n",
      "           2       0.94      0.61      0.74       536\n",
      "\n",
      "    accuracy                           0.65       682\n",
      "   macro avg       0.48      0.80      0.49       682\n",
      "weighted avg       0.82      0.65      0.69       682\n",
      "\n"
     ]
    }
   ],
   "source": [
    "print(classification_report(poly_pred_tme,y_test))"
   ]
  },
  {
   "cell_type": "code",
   "execution_count": null,
   "metadata": {},
   "outputs": [],
   "source": []
  },
  {
   "cell_type": "code",
   "execution_count": null,
   "metadata": {},
   "outputs": [],
   "source": []
  },
  {
   "cell_type": "code",
   "execution_count": null,
   "metadata": {},
   "outputs": [],
   "source": []
  },
  {
   "cell_type": "code",
   "execution_count": null,
   "metadata": {},
   "outputs": [],
   "source": []
  },
  {
   "cell_type": "code",
   "execution_count": null,
   "metadata": {},
   "outputs": [],
   "source": [
    "\n"
   ]
  },
  {
   "cell_type": "code",
   "execution_count": null,
   "metadata": {},
   "outputs": [],
   "source": []
  },
  {
   "cell_type": "code",
   "execution_count": null,
   "metadata": {},
   "outputs": [],
   "source": []
  },
  {
   "cell_type": "code",
   "execution_count": null,
   "metadata": {},
   "outputs": [],
   "source": []
  },
  {
   "cell_type": "code",
   "execution_count": null,
   "metadata": {},
   "outputs": [],
   "source": []
  },
  {
   "cell_type": "code",
   "execution_count": null,
   "metadata": {},
   "outputs": [],
   "source": []
  },
  {
   "cell_type": "code",
   "execution_count": null,
   "metadata": {},
   "outputs": [],
   "source": []
  },
  {
   "cell_type": "code",
   "execution_count": null,
   "metadata": {},
   "outputs": [],
   "source": []
  },
  {
   "cell_type": "code",
   "execution_count": null,
   "metadata": {},
   "outputs": [],
   "source": []
  },
  {
   "cell_type": "code",
   "execution_count": null,
   "metadata": {},
   "outputs": [],
   "source": []
  },
  {
   "cell_type": "code",
   "execution_count": null,
   "metadata": {},
   "outputs": [],
   "source": []
  },
  {
   "cell_type": "code",
   "execution_count": null,
   "metadata": {},
   "outputs": [],
   "source": []
  },
  {
   "cell_type": "code",
   "execution_count": null,
   "metadata": {},
   "outputs": [],
   "source": []
  },
  {
   "cell_type": "code",
   "execution_count": null,
   "metadata": {},
   "outputs": [],
   "source": []
  },
  {
   "cell_type": "code",
   "execution_count": null,
   "metadata": {},
   "outputs": [],
   "source": []
  },
  {
   "cell_type": "code",
   "execution_count": null,
   "metadata": {},
   "outputs": [],
   "source": []
  },
  {
   "cell_type": "code",
   "execution_count": null,
   "metadata": {},
   "outputs": [],
   "source": []
  },
  {
   "cell_type": "code",
   "execution_count": null,
   "metadata": {},
   "outputs": [],
   "source": []
  },
  {
   "cell_type": "code",
   "execution_count": null,
   "metadata": {},
   "outputs": [],
   "source": []
  },
  {
   "cell_type": "code",
   "execution_count": null,
   "metadata": {},
   "outputs": [],
   "source": []
  },
  {
   "cell_type": "code",
   "execution_count": null,
   "metadata": {},
   "outputs": [],
   "source": []
  },
  {
   "cell_type": "code",
   "execution_count": null,
   "metadata": {},
   "outputs": [],
   "source": []
  },
  {
   "cell_type": "code",
   "execution_count": null,
   "metadata": {},
   "outputs": [],
   "source": []
  },
  {
   "cell_type": "code",
   "execution_count": null,
   "metadata": {},
   "outputs": [],
   "source": []
  },
  {
   "cell_type": "code",
   "execution_count": null,
   "metadata": {},
   "outputs": [],
   "source": []
  },
  {
   "cell_type": "code",
   "execution_count": null,
   "metadata": {},
   "outputs": [],
   "source": []
  },
  {
   "cell_type": "code",
   "execution_count": null,
   "metadata": {},
   "outputs": [],
   "source": []
  },
  {
   "cell_type": "code",
   "execution_count": null,
   "metadata": {},
   "outputs": [],
   "source": []
  },
  {
   "cell_type": "code",
   "execution_count": null,
   "metadata": {},
   "outputs": [],
   "source": []
  },
  {
   "cell_type": "code",
   "execution_count": null,
   "metadata": {},
   "outputs": [],
   "source": []
  },
  {
   "cell_type": "code",
   "execution_count": null,
   "metadata": {},
   "outputs": [],
   "source": []
  },
  {
   "cell_type": "code",
   "execution_count": null,
   "metadata": {},
   "outputs": [],
   "source": []
  },
  {
   "cell_type": "code",
   "execution_count": null,
   "metadata": {},
   "outputs": [],
   "source": []
  },
  {
   "cell_type": "code",
   "execution_count": null,
   "metadata": {},
   "outputs": [],
   "source": []
  },
  {
   "cell_type": "code",
   "execution_count": null,
   "metadata": {},
   "outputs": [],
   "source": []
  },
  {
   "cell_type": "code",
   "execution_count": null,
   "metadata": {},
   "outputs": [],
   "source": []
  },
  {
   "cell_type": "code",
   "execution_count": null,
   "metadata": {},
   "outputs": [],
   "source": []
  },
  {
   "cell_type": "code",
   "execution_count": null,
   "metadata": {},
   "outputs": [],
   "source": []
  },
  {
   "cell_type": "code",
   "execution_count": null,
   "metadata": {},
   "outputs": [],
   "source": []
  },
  {
   "cell_type": "code",
   "execution_count": null,
   "metadata": {},
   "outputs": [],
   "source": []
  },
  {
   "cell_type": "code",
   "execution_count": null,
   "metadata": {},
   "outputs": [],
   "source": []
  },
  {
   "cell_type": "code",
   "execution_count": null,
   "metadata": {},
   "outputs": [],
   "source": []
  },
  {
   "cell_type": "code",
   "execution_count": null,
   "metadata": {},
   "outputs": [],
   "source": []
  },
  {
   "cell_type": "code",
   "execution_count": null,
   "metadata": {},
   "outputs": [],
   "source": []
  },
  {
   "cell_type": "code",
   "execution_count": null,
   "metadata": {},
   "outputs": [],
   "source": []
  },
  {
   "cell_type": "code",
   "execution_count": null,
   "metadata": {},
   "outputs": [],
   "source": []
  },
  {
   "cell_type": "code",
   "execution_count": null,
   "metadata": {},
   "outputs": [],
   "source": []
  },
  {
   "cell_type": "code",
   "execution_count": null,
   "metadata": {},
   "outputs": [],
   "source": []
  },
  {
   "cell_type": "code",
   "execution_count": null,
   "metadata": {},
   "outputs": [],
   "source": []
  },
  {
   "cell_type": "code",
   "execution_count": null,
   "metadata": {},
   "outputs": [],
   "source": []
  },
  {
   "cell_type": "code",
   "execution_count": null,
   "metadata": {},
   "outputs": [],
   "source": []
  },
  {
   "cell_type": "code",
   "execution_count": null,
   "metadata": {},
   "outputs": [],
   "source": []
  },
  {
   "cell_type": "code",
   "execution_count": null,
   "metadata": {},
   "outputs": [],
   "source": []
  },
  {
   "cell_type": "code",
   "execution_count": null,
   "metadata": {},
   "outputs": [],
   "source": []
  },
  {
   "cell_type": "code",
   "execution_count": null,
   "metadata": {},
   "outputs": [],
   "source": []
  },
  {
   "cell_type": "code",
   "execution_count": null,
   "metadata": {},
   "outputs": [],
   "source": []
  },
  {
   "cell_type": "code",
   "execution_count": null,
   "metadata": {},
   "outputs": [],
   "source": []
  },
  {
   "cell_type": "code",
   "execution_count": null,
   "metadata": {},
   "outputs": [],
   "source": []
  },
  {
   "cell_type": "code",
   "execution_count": null,
   "metadata": {},
   "outputs": [],
   "source": []
  },
  {
   "cell_type": "code",
   "execution_count": null,
   "metadata": {},
   "outputs": [],
   "source": []
  },
  {
   "cell_type": "code",
   "execution_count": null,
   "metadata": {},
   "outputs": [],
   "source": []
  },
  {
   "cell_type": "code",
   "execution_count": null,
   "metadata": {},
   "outputs": [],
   "source": []
  },
  {
   "cell_type": "code",
   "execution_count": null,
   "metadata": {},
   "outputs": [],
   "source": []
  },
  {
   "cell_type": "code",
   "execution_count": null,
   "metadata": {},
   "outputs": [],
   "source": []
  },
  {
   "cell_type": "code",
   "execution_count": null,
   "metadata": {},
   "outputs": [],
   "source": []
  },
  {
   "cell_type": "code",
   "execution_count": null,
   "metadata": {},
   "outputs": [],
   "source": []
  },
  {
   "cell_type": "code",
   "execution_count": null,
   "metadata": {},
   "outputs": [],
   "source": []
  },
  {
   "cell_type": "code",
   "execution_count": null,
   "metadata": {},
   "outputs": [],
   "source": []
  },
  {
   "cell_type": "code",
   "execution_count": null,
   "metadata": {},
   "outputs": [],
   "source": []
  },
  {
   "cell_type": "code",
   "execution_count": null,
   "metadata": {},
   "outputs": [],
   "source": []
  },
  {
   "cell_type": "code",
   "execution_count": null,
   "metadata": {},
   "outputs": [],
   "source": []
  },
  {
   "cell_type": "code",
   "execution_count": null,
   "metadata": {},
   "outputs": [],
   "source": []
  },
  {
   "cell_type": "code",
   "execution_count": null,
   "metadata": {},
   "outputs": [],
   "source": []
  },
  {
   "cell_type": "code",
   "execution_count": null,
   "metadata": {},
   "outputs": [],
   "source": []
  },
  {
   "cell_type": "code",
   "execution_count": null,
   "metadata": {},
   "outputs": [],
   "source": []
  }
 ],
 "metadata": {
  "kernelspec": {
   "display_name": "Python 3 (ipykernel)",
   "language": "python",
   "name": "python3"
  },
  "language_info": {
   "codemirror_mode": {
    "name": "ipython",
    "version": 3
   },
   "file_extension": ".py",
   "mimetype": "text/x-python",
   "name": "python",
   "nbconvert_exporter": "python",
   "pygments_lexer": "ipython3",
   "version": "3.8.5"
  }
 },
 "nbformat": 4,
 "nbformat_minor": 4
}
